{
 "cells": [
  {
   "cell_type": "code",
   "execution_count": 1,
   "metadata": {
    "collapsed": true
   },
   "outputs": [],
   "source": [
    "import findspark\n",
    "findspark.init()\n",
    "import pyspark\n",
    "from random import random\n",
    "from pyspark import SparkContext\n",
    "import numpy as np\n",
    "from math import sqrt\n",
    "\n",
    "import matplotlib\n",
    "import matplotlib.pyplot\n",
    "import matplotlib.pyplot as plt\n",
    "%matplotlib inline \n",
    "\n",
    " "
   ]
  },
  {
   "cell_type": "code",
   "execution_count": 2,
   "metadata": {
    "collapsed": true
   },
   "outputs": [],
   "source": [
    "config = pyspark.SparkConf().set('spark.executor.memory', '512M').set('spark.cores.max', '2')\\\n",
    "            .set('spark.port.maxRetries','200') \n",
    "sc = pyspark.SparkContext(appName=\"Project #2 - Santander\", master='spark://polyp1:7077',conf = config )"
   ]
  },
  {
   "cell_type": "markdown",
   "metadata": {},
   "source": [
    "# The Problem\n",
    "We are going to participate in a Kaggle competition here\n",
    "https://www.kaggle.com/c/santander-product-recommendation\n",
    "\n",
    "I have already downloaded the data to our cluster + I have also created a small and medium dataset for you to start.\n",
    "<br>\n",
    "This small dataset contains information about randomly chosen 1,000 customers\n",
    "<br>\n",
    "This medium dataset contains information about randomly chosen 10,000 customers\n",
    "<br>\n",
    "<br>\n",
    "Each Team has to register to the competition. Read how to submit your solution to the website and also try to do it. We will like to see that you tried to submit your solution and also part of the project is to tell us how you did. You have to report the best score you obtained + also attach your \"subission\" file.\n",
    "## Note\n",
    "We do not expect you to be the best, this would take a lot of time, we just want you to learn a lot by working on this project"
   ]
  },
  {
   "cell_type": "code",
   "execution_count": 3,
   "metadata": {
    "collapsed": true
   },
   "outputs": [],
   "source": [
    "# you will need this data once you get familiar with the problem, \n",
    "# it is better to start with the small subset defined below\n",
    "# trainData = sc.textFile('/scratch/ISE495/2017_project_02/train_ver2.csv')\n",
    "# testData = sc.textFile('/scratch/ISE495/2017_project_02/test_ver2.csv')\n",
    "# sampleSubmission = sc.textFile('/scratch/ISE495/2017_project_02/sample_submission.csv')\n",
    "\n",
    "#trainData = sc.textFile('/scratch/ISE495/2017_project_02/train_ver2_medium.csv')\n",
    "trainData = sc.textFile('/scratch/ISE495/2017_project_02/train_ver2_small.csv')"
   ]
  },
  {
   "cell_type": "code",
   "execution_count": 4,
   "metadata": {},
   "outputs": [
    {
     "name": "stdout",
     "output_type": "stream",
     "text": [
      "[u'\"fecha_dato\",\"ncodpers\",\"ind_empleado\",\"pais_residencia\",\"sexo\",\"age\",\"fecha_alta\",\"ind_nuevo\",\"antiguedad\",\"indrel\",\"ult_fec_cli_1t\",\"indrel_1mes\",\"tiprel_1mes\",\"indresi\",\"indext\",\"conyuemp\",\"canal_entrada\",\"indfall\",\"tipodom\",\"cod_prov\",\"nomprov\",\"ind_actividad_cliente\",\"renta\",\"segmento\",\"ind_ahor_fin_ult1\",\"ind_aval_fin_ult1\",\"ind_cco_fin_ult1\",\"ind_cder_fin_ult1\",\"ind_cno_fin_ult1\",\"ind_ctju_fin_ult1\",\"ind_ctma_fin_ult1\",\"ind_ctop_fin_ult1\",\"ind_ctpp_fin_ult1\",\"ind_deco_fin_ult1\",\"ind_deme_fin_ult1\",\"ind_dela_fin_ult1\",\"ind_ecue_fin_ult1\",\"ind_fond_fin_ult1\",\"ind_hip_fin_ult1\",\"ind_plan_fin_ult1\",\"ind_pres_fin_ult1\",\"ind_reca_fin_ult1\",\"ind_tjcr_fin_ult1\",\"ind_valo_fin_ult1\",\"ind_viv_fin_ult1\",\"ind_nomina_ult1\",\"ind_nom_pens_ult1\",\"ind_recibo_ult1\"', u'2015-01-28,1050781,N,ES,H, 23,2012-08-10, 0,     35, 1,,1.0,I,S,N,,KHE,N, 1,16,\"CUENCA\", 0,69094.08,03 - UNIVERSITARIO,0,0,1,0,0,0,0,0,0,0,0,0,0,0,0,0,0,0,0,0,0, 0, 0,0', u'2015-01-28,1052003,N,ES,H, 22,2012-08-16, 0,     35, 1,,1,A,S,N,,KHD,N, 1,14,\"CORDOBA\", 1,86581.56,03 - UNIVERSITARIO,0,0,1,0,0,0,0,0,0,0,0,0,0,0,0,0,0,0,0,0,0, 0, 0,0', u'2015-01-28,1051676,N,ES,V, 22,2012-08-14, 0,     35, 1,,1.0,A,S,N,,KHD,N, 1, 9,\"BURGOS\", 1,62869.77,03 - UNIVERSITARIO,0,0,1,0,0,0,0,0,0,0,0,0,0,0,0,0,0,0,0,0,0, 0, 0,0', u'2015-01-28,1048810,N,ES,H, 30,2012-08-09, 0,     35, 1,,1,I,S,S,,KHE,N, 1,47,\"VALLADOLID\", 0,88931.34,03 - UNIVERSITARIO,0,0,1,0,0,0,0,0,0,0,0,0,0,0,0,0,0,0,0,0,0, 0, 0,0']\n"
     ]
    }
   ],
   "source": [
    "print trainData.take(5)"
   ]
  },
  {
   "cell_type": "code",
   "execution_count": 4,
   "metadata": {},
   "outputs": [
    {
     "name": "stdout",
     "output_type": "stream",
     "text": [
      "14348\n"
     ]
    }
   ],
   "source": [
    "filtedTitle =  trainData.filter(lambda l:l.split(',')[0].find('fecha') == -1).count()\n",
    "print filtedTitle"
   ]
  },
  {
   "cell_type": "code",
   "execution_count": 5,
   "metadata": {},
   "outputs": [
    {
     "name": "stdout",
     "output_type": "stream",
     "text": [
      "14348\n",
      "12489\n"
     ]
    }
   ],
   "source": [
    "filtedTitle =  trainData.filter(lambda l:l.split(',')[0].find('fecha') == -1)\n",
    "print filtedTitle.count()\n",
    "filtedNA =  filtedTitle.filter(lambda l:l.find('NA') == -1)\n",
    "print filtedNA.count()"
   ]
  },
  {
   "cell_type": "code",
   "execution_count": 34,
   "metadata": {},
   "outputs": [
    {
     "name": "stdout",
     "output_type": "stream",
     "text": [
      "124129\n"
     ]
    }
   ],
   "source": [
    "print filtedTitle.filter(lambda l:l.find('NA') == -1).count()"
   ]
  },
  {
   "cell_type": "code",
   "execution_count": 45,
   "metadata": {},
   "outputs": [],
   "source": [
    "def NAtozero(e):\n",
    "    lis = e.split(',')\n",
    "    if lis[24] != '0' or lis[24] != '1':\n",
    "        del lis[24]   \n",
    "    for ele in lis[24:48]:\n",
    "        if ele.find('NA') != -1:\n",
    "            ele = '0'\n",
    "    return [lis[1],lis[24:48]]\n",
    "def rating(e):\n",
    "    return [[e[0],i,e[1][i]] for i in range(len(e[1]))]\n",
    "NA__0 = filtedNA.map(NAtozero)\n",
    "rates =  NA__0.flatMap(rating)\n",
    "      "
   ]
  },
  {
   "cell_type": "code",
   "execution_count": 46,
   "metadata": {},
   "outputs": [
    {
     "name": "stdout",
     "output_type": "stream",
     "text": [
      "[Rating(user=1050781, product=0, rating=0.0), Rating(user=1050781, product=1, rating=1.0), Rating(user=1050781, product=2, rating=0.0), Rating(user=1050781, product=3, rating=0.0), Rating(user=1050781, product=4, rating=0.0)]\n"
     ]
    }
   ],
   "source": [
    "from pyspark.mllib.recommendation import ALS, MatrixFactorizationModel, Rating\n",
    "ratings = rates.map(lambda l: Rating(int(l[0]), int(l[1]), float(l[2])))\n",
    "print ratings.take(5)"
   ]
  },
  {
   "cell_type": "code",
   "execution_count": 29,
   "metadata": {},
   "outputs": [
    {
     "name": "stdout",
     "output_type": "stream",
     "text": [
      "[u'2015-01-28', u'1050781', u'2015-01-28', u'1052003', u'2015-01-28', u'1051676', u'2015-01-28', u'1048810', u'2015-01-28', u'1050023']\n"
     ]
    }
   ],
   "source": []
  },
  {
   "cell_type": "code",
   "execution_count": 49,
   "metadata": {},
   "outputs": [
    {
     "ename": "AttributeError",
     "evalue": "'list' object has no attribute 'flatMap'",
     "output_type": "error",
     "traceback": [
      "\u001b[0;31m---------------------------------------------------------------------------\u001b[0m",
      "\u001b[0;31mAttributeError\u001b[0m                            Traceback (most recent call last)",
      "\u001b[0;32m<ipython-input-49-cf7aeb98c49d>\u001b[0m in \u001b[0;36m<module>\u001b[0;34m()\u001b[0m\n\u001b[0;32m----> 1\u001b[0;31m \u001b[0;32mprint\u001b[0m \u001b[0mNA__0\u001b[0m\u001b[0;34m.\u001b[0m\u001b[0mflatMap\u001b[0m\u001b[0;34m(\u001b[0m\u001b[0;32mlambda\u001b[0m \u001b[0ml\u001b[0m\u001b[0;34m:\u001b[0m\u001b[0ml\u001b[0m\u001b[0;34m[\u001b[0m\u001b[0;36m1\u001b[0m\u001b[0;34m]\u001b[0m\u001b[0;34m)\u001b[0m\u001b[0;34m.\u001b[0m\u001b[0mtake\u001b[0m\u001b[0;34m(\u001b[0m\u001b[0;36m5\u001b[0m\u001b[0;34m)\u001b[0m\u001b[0;34m\u001b[0m\u001b[0m\n\u001b[0m",
      "\u001b[0;31mAttributeError\u001b[0m: 'list' object has no attribute 'flatMap'"
     ]
    }
   ],
   "source": []
  },
  {
   "cell_type": "code",
   "execution_count": 32,
   "metadata": {},
   "outputs": [
    {
     "name": "stdout",
     "output_type": "stream",
     "text": [
      "[1]\n"
     ]
    }
   ],
   "source": []
  },
  {
   "cell_type": "code",
   "execution_count": 7,
   "metadata": {},
   "outputs": [
    {
     "name": "stdout",
     "output_type": "stream",
     "text": [
      "0\n",
      "2\n",
      "4\n",
      "6\n",
      "8\n"
     ]
    }
   ],
   "source": []
  },
  {
   "cell_type": "code",
   "execution_count": 12,
   "metadata": {},
   "outputs": [
    {
     "name": "stdout",
     "output_type": "stream",
     "text": [
      "0\n",
      "1\n",
      "4\n"
     ]
    }
   ],
   "source": []
  },
  {
   "cell_type": "code",
   "execution_count": 17,
   "metadata": {},
   "outputs": [
    {
     "name": "stdout",
     "output_type": "stream",
     "text": [
      "<generator object gen at 0x7f0d01a0fdc0>\n",
      "0\n",
      "1\n",
      "2\n"
     ]
    }
   ],
   "source": []
  },
  {
   "cell_type": "code",
   "execution_count": null,
   "metadata": {
    "collapsed": true
   },
   "outputs": [],
   "source": []
  },
  {
   "cell_type": "code",
   "execution_count": null,
   "metadata": {
    "collapsed": true
   },
   "outputs": [],
   "source": [
    "sc.stop()"
   ]
  }
 ],
 "metadata": {
  "kernelspec": {
   "display_name": "Python 2",
   "language": "python",
   "name": "python2"
  },
  "language_info": {
   "codemirror_mode": {
    "name": "ipython",
    "version": 2
   },
   "file_extension": ".py",
   "mimetype": "text/x-python",
   "name": "python",
   "nbconvert_exporter": "python",
   "pygments_lexer": "ipython2",
   "version": "2.7.9"
  }
 },
 "nbformat": 4,
 "nbformat_minor": 2
}
