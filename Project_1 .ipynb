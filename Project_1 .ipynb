{
 "cells": [
  {
   "cell_type": "code",
   "execution_count": 1,
   "metadata": {
    "collapsed": true
   },
   "outputs": [],
   "source": [
    "import findspark\n",
    "findspark.init()\n",
    "import pyspark \n",
    "from pyspark import SparkContext"
   ]
  },
  {
   "cell_type": "code",
   "execution_count": 2,
   "metadata": {
    "collapsed": true
   },
   "outputs": [],
   "source": [
    "config = pyspark.SparkConf().set('spark.executor.memory', '8G').set('spark.cores.max', '8')\\\n",
    "            .set('spark.port.maxRetries','200') \n",
    "sc = pyspark.SparkContext(appName=\"Project 1\", master='spark://polyp1:7077',conf = config )"
   ]
  },
  {
   "cell_type": "code",
   "execution_count": 3,
   "metadata": {
    "collapsed": true
   },
   "outputs": [],
   "source": [
    "dataHeader = sc.textFile(\"/scratch/ISE495/2017_project_01/header.txt\")"
   ]
  },
  {
   "cell_type": "code",
   "execution_count": 4,
   "metadata": {},
   "outputs": [
    {
     "name": "stdout",
     "output_type": "stream",
     "text": [
      "[u'2,2015-09-01 00:02:34,2015-09-01 00:02:38,N,5,-73.979484558105469,40.684955596923828,-73.97943115234375,40.685020446777344,1,.00,7.8,0,0,1.95,0,,0,9.75,1,2']\n"
     ]
    }
   ],
   "source": [
    "data = sc.textFile(\"/scratch/ISE495/2017_project_01/green_tripdata_2015-09.csv\")\n",
    "#data = sc.textFile(\"/scratch/ISE495/2017_project_01/green_tripdata_2015-09_small.csv\")\n",
    "\n",
    "print data.take(1)"
   ]
  },
  {
   "cell_type": "code",
   "execution_count": 5,
   "metadata": {},
   "outputs": [
    {
     "name": "stdout",
     "output_type": "stream",
     "text": [
      "There are 1494926 rows and 21 colunms in data file.\n"
     ]
    }
   ],
   "source": [
    "\"\"\" Q1 \"\"\"\n",
    "\n",
    "def split_line(e):\n",
    "    return e.split(',')\n",
    "\n",
    "datafile = data.map(split_line)\n",
    "# The datafile will be used in later questions as original splitted file.\n",
    "\n",
    "Header = dataHeader.map(split_line).flatMap(lambda x: x)\n",
    "print \"There are \" + str(data.count()) + \" rows and \" +str(Header.count()) + \" colunms in data file.\""
   ]
  },
  {
   "cell_type": "code",
   "execution_count": null,
   "metadata": {
    "collapsed": true,
    "scrolled": false
   },
   "outputs": [],
   "source": [
    "\"\"\" Q2 \"\"\"\n",
    "\n",
    "\"\"\"\n",
    "Since there are about 1.5 million records, there could be several methods for this problem.\n",
    "1) reduce the data as a preprocess and then output and plot by EXCEL.\n",
    "2) define a bin-range, and calculate the frequency for each bin. \n",
    "\n",
    "\"\"\"\n",
    "trip_distance_data = datafile.map(lambda x: x[10]).map(lambda x: (float(x),1)).reduceByKey(lambda x,y: x+y).sortByKey()\n",
    "\n",
    "#trip_distance_value = trip_distance_data.map(lambda x: x[0]).collect()\n",
    "#trip_distance_number = trip_distance_data.map(lambda x: x[1]).collect()\n",
    "\n",
    "#with open(\"distance value.csv\", \"w\") as output:\n",
    "#    output.write(str(trip_distance_value))\n",
    "\n",
    "#with open(\"distance number.csv\", \"w\") as output:\n",
    "#    output.write(str(trip_distance_number))   "
   ]
  },
  {
   "cell_type": "code",
   "execution_count": null,
   "metadata": {
    "collapsed": true
   },
   "outputs": [],
   "source": [
    "\"\"\"Q2 Continue\"\"\"\n",
    "\n",
    "# Choose the bin width based on frequency.\n",
    "\n",
    "trip_data = trip_distance_data.collect()\n",
    "Occurance = []\n",
    "X_axis_left = []\n",
    "X_axis_width = []\n",
    "count = 0\n",
    "i = 0.2\n",
    "k = 0\n",
    "j = 0\n",
    "while i <= 100:\n",
    "    while j <= len(trip_data):\n",
    "        if k <= trip_data[j][0] < i:\n",
    "            count = count + int(trip_data[j][1])\n",
    "            j += 1\n",
    "        else:\n",
    "            Occurance.append(count)\n",
    "            count = 0\n",
    "            X_axis_left.append(float(k))\n",
    "            if int(i) < 20:\n",
    "                i += 0.2\n",
    "                k += 0.2\n",
    "                X_axis_width.append(0.2)\n",
    "            elif int(i) == 20:\n",
    "                i += 1\n",
    "                k += 0.2\n",
    "                X_axis_width.append(1)\n",
    "                print (k,i)\n",
    "            elif i > 20:\n",
    "                i += 1\n",
    "                k += 1\n",
    "                X_axis_width.append(1)\n",
    "            break\n",
    "\n",
    "#print len(Occurance), Occurance\n",
    "#print len(X_axis_left), X_axis_left\n",
    "#print len(X_axis_width), X_axis_width\n",
    "\n",
    "#with open(\"trip data_various bin width.csv\", \"w\") as output:\n",
    "#    output.write(str(Occurance)) "
   ]
  },
  {
   "cell_type": "code",
   "execution_count": null,
   "metadata": {
    "collapsed": true
   },
   "outputs": [],
   "source": [
    "import matplotlib\n",
    "import matplotlib.pyplot\n",
    "import matplotlib.pyplot as plt\n",
    "%matplotlib inline \n",
    "\n",
    "x_modified_axis = []\n",
    "for i in range(180):\n",
    "    x_modified_axis.append(i)\n",
    "\n",
    "plt.bar(X_axis_left[:50], Occurance[:50], width = X_axis_width[:50], color = 'b')\n",
    "plt.show()"
   ]
  },
  {
   "cell_type": "code",
   "execution_count": null,
   "metadata": {
    "collapsed": true
   },
   "outputs": [],
   "source": [
    "\"\"\"Q3 Grouped by pick-up hour\"\"\"\n",
    "#Calculate the mean trip distance of each hour for 30 days.\n",
    "#Plot the mean trip distance versus day hour.\n",
    "\n",
    "import datetime\n",
    "import numpy as np\n",
    "\n",
    "def kv_time_distance(e):\n",
    "    dt = datetime.datetime.strptime(e[1], \"%Y-%m-%d %H:%M:%S\")\n",
    "    return (dt.hour, float(e[10]))\n",
    "\n",
    "time_distance = datafile.map(kv_time_distance)\n",
    "mean_distance = time_distance.groupByKey().map(lambda m: [m[0],[x for x in m[1]]]).map(lambda m: [m[0],np.mean(m[1])]).takeOrdered(24, lambda value: value[0])\n",
    "#print mean_distance"
   ]
  },
  {
   "cell_type": "code",
   "execution_count": null,
   "metadata": {
    "collapsed": true
   },
   "outputs": [],
   "source": [
    "\"\"\"Learn about datetime --> Extra Material\"\"\"\n",
    "\n",
    "import datetime\n",
    "\n",
    "string_date = '2015/9/2  12:02:34 AM'\n",
    "\n",
    "dt = datetime.datetime.strptime('2015/9/2  9:02:34 AM', \"%Y/%m/%d %I:%M:%S %p\")\n",
    "du = datetime.datetime.strptime('2015/9/1  11:01:09 PM', \"%Y/%m/%d %I:%M:%S %p\")\n",
    "print du.hour"
   ]
  },
  {
   "cell_type": "code",
   "execution_count": null,
   "metadata": {
    "collapsed": true
   },
   "outputs": [],
   "source": [
    "\"\"\"Q3 continue\"\"\"\n",
    "\n",
    "x = np.zeros(24)\n",
    "y = np.zeros(24)\n",
    "i = 0\n",
    "for value in mean_distance:\n",
    "    x[i] = value[0]\n",
    "    y[i] = value[1]\n",
    "    i += 1\n",
    "\n",
    "print x\n",
    "print y\n",
    "\n",
    "plt.bar(x,y,width =1.0, color= 'r')\n",
    "plt.show()"
   ]
  },
  {
   "cell_type": "code",
   "execution_count": null,
   "metadata": {
    "collapsed": true
   },
   "outputs": [],
   "source": [
    "\"\"\"Q4 Airport Area\"\"\"\n",
    "\n",
    "# JFK longitude: -73.7757682800293 : -73.80748271942139\n",
    "# JFK latitude: 40.640465334847704 : 40.66188943992171\n",
    "\n",
    "# NEW longitude -74.17580366134644 : -74.1892147064209\n",
    "# NEW latitude 40.68704909195378 : 40.6956396052937 \n",
    "\n",
    "JFK_lon = [-73.7757682800293, -73.80748271942139]\n",
    "JFK_lat = [40.640465334847704, 40.66188943992171]\n",
    "NEW_lon = [-74.17580366134644, -74.1892147064209]\n",
    "NEW_lat = [40.68704909195378, 40.6956396052937]\n",
    "\n",
    "endCode_totalAmount = datafile.map(lambda e: (float(e[4]),float(e[18]))).reduceByKey(lambda x,y: x+y).sortByKey()\n",
    "endCode_totalAmount_count = datafile.map(lambda e: (float(e[4]),1)).reduceByKey(lambda x,y: x+y).sortByKey()\n",
    "\n",
    "fair = endCode_totalAmount.map(lambda x: x[1]).take(6)\n",
    "count = endCode_totalAmount_count.map(lambda x: x[1]).take(6)\n",
    "JFK_fair = fair[1]\n",
    "NEW_fair = fair[2]\n",
    "JFK_count = count[1]\n",
    "NEW_count = count[2]\n",
    "print datafile.map(lambda e: float(e[18])).take(5)\n",
    "print \"Average fair to JFK is \" + str(JFK_fair/JFK_count)\n",
    "print \"Average fair to NEW is \" + str(NEW_fair/NEW_count)"
   ]
  },
  {
   "cell_type": "code",
   "execution_count": null,
   "metadata": {
    "collapsed": true
   },
   "outputs": [],
   "source": [
    "print datafile.map(lambda x: (x[7], x[8])).take(1)"
   ]
  },
  {
   "cell_type": "code",
   "execution_count": 6,
   "metadata": {},
   "outputs": [
    {
     "name": "stdout",
     "output_type": "stream",
     "text": [
      "1494926\n",
      "[-73.83083949411842, 40.69114448571891, -73.83727771386073, 40.69290536073598]\n",
      "[[1.0020133194340677, 0.9998479057575476]]\n"
     ]
    }
   ],
   "source": [
    "\"\"\"Q5 clustering pickup & drooff\"\"\"\n",
    "\n",
    "#def add_location(x,y):\n",
    "#    z = [0,0]\n",
    "#    z[0] = x[0] + y[0]\n",
    "#    z[1] = x[1] + y[1]\n",
    "#    return z\n",
    "\n",
    "count = datafile.count()\n",
    "print count\n",
    "\n",
    "pickup_location_long = datafile.map(lambda x: float(x[5]))\n",
    "pickup_location_lat = datafile.map(lambda x: float(x[6]))\n",
    "dropoff_location_long = datafile.map(lambda x: float(x[7]))\n",
    "dropoff_location_lat = datafile.map(lambda x: float(x[8]))\n",
    "\n",
    "sum_pickup_long = pickup_location_long.reduce(lambda x,y: x+y)\n",
    "sum_pickup_lat = pickup_location_lat.reduce(lambda x,y: x+y)\n",
    "sum_dropoff_long = dropoff_location_long.reduce(lambda x,y: x+y)\n",
    "sum_dropoff_lat = dropoff_location_lat.reduce(lambda x,y: x+y)\n",
    "\n",
    "average_pickup_long = sum_pickup_long / count\n",
    "average_pickup_lat = sum_pickup_lat / count \n",
    "average_dropoff_long = sum_dropoff_long / count\n",
    "average_dropoff_lat = sum_dropoff_lat / count\n",
    "\n",
    "print [average_pickup_long, average_pickup_lat, average_dropoff_long, average_dropoff_lat]\n",
    "\n",
    "def normalize_pickup(e):\n",
    "    e[0] = e[0] / average_pickup_long\n",
    "    e[1] = e[1] / average_pickup_lat\n",
    "    return e\n",
    "\n",
    "def normalize_dropoff(e):\n",
    "    e[0] = e[0] / average_dropoff_long\n",
    "    e[1] = e[1] / average_dropoff_lat\n",
    "    return e\n",
    "\n",
    "normalize_pickup_location = datafile.map(lambda x: [float(x[5]),float(x[6])]).map(normalize_pickup)\n",
    "normalize_dropoff_location = datafile.map(lambda x: [float(x[7]),float(x[8])]).map(normalize_dropoff)\n",
    "\n",
    "print normalize_pickup_location.take(1)"
   ]
  },
  {
   "cell_type": "code",
   "execution_count": 11,
   "metadata": {},
   "outputs": [
    {
     "name": "stdout",
     "output_type": "stream",
     "text": [
      "error_pickup error_dropoff\n",
      "2034.64275148 2085.21118204\n",
      "798.594306511 643374.114716\n",
      "668.716397642 398551.665225\n",
      "599.262503947 161672.850226\n",
      "465.760780351 296269.922282\n",
      "408.517577885 134302.147395\n",
      "419.134272834 306132.479798\n",
      "387.41545872 128331.916772\n",
      "337.268894797 73377.3544666\n"
     ]
    }
   ],
   "source": [
    "\"\"\"Q5 Continue\"\"\"\n",
    "\n",
    "from math import sqrt\n",
    "from pyspark.mllib.clustering import KMeans, KMeansModel\n",
    "\n",
    "error_list_pickup = []\n",
    "error_list_dropoff = []\n",
    "k_list = [2,4,6,8,10,12,14,16,18]\n",
    "print \"error_pickup\", \"error_dropoff\"\n",
    "\n",
    "for k in k_list:\n",
    "    cluster_pickup = KMeans.train(normalize_pickup_location, k, maxIterations=10, initializationMode=\"random\")\n",
    "    cluster_dropoff = KMeans.train(normalize_dropoff_location, k, maxIterations=10, initializationMode='random')\n",
    "    def error_pickup(point):\n",
    "        center_pickup = cluster_pickup.centers[cluster_pickup.predict(point)]\n",
    "        return sqrt(sum([x**2 for x in (point - center_pickup)]))\n",
    "    def error_dropoff(point):\n",
    "        center_dropoff = cluster_dropoff.centers[cluster_pickup.predict(point)]\n",
    "        return sqrt(sum([x**2 for x in (point - center_dropoff)]))\n",
    "    WSSSE_pickup = normalize_pickup_location.map(error_pickup).reduce(lambda x,y: x+y)\n",
    "    WSSSE_dropoff = normalize_dropoff_location.map(error_dropoff).reduce(lambda x,y: x+y)\n",
    "    error_list_pickup.append(WSSSE_pickup)\n",
    "    error_list_dropoff.append(WSSSE_dropoff)\n",
    "    print WSSSE_pickup, WSSSE_dropoff"
   ]
  },
  {
   "cell_type": "code",
   "execution_count": 16,
   "metadata": {},
   "outputs": [
    {
     "data": {
      "image/png": "[encoded data removed]",
      "text/plain": [
       "<matplotlib.figure.Figure at 0x7f31a52d79d0>"
      ]
     },
     "metadata": {},
     "output_type": "display_data"
    },
    {
     "data": {
      "text/plain": [
       "[<matplotlib.lines.Line2D at 0x7f31a5366050>]"
      ]
     },
     "execution_count": 16,
     "metadata": {},
     "output_type": "execute_result"
    },
    {
     "data": {
      "image/png": "[encoded data removed]",
      "text/plain": [
       "<matplotlib.figure.Figure at 0x7f31a533e5d0>"
      ]
     },
     "metadata": {},
     "output_type": "display_data"
    }
   ],
   "source": [
    "plt.plot(k_list,error_list_pickup,'rs-' )\n",
    "plt.show()\n",
    "plt.plot(k_list,error_list_dropoff, 'bo-')"
   ]
  },
  {
   "cell_type": "markdown",
   "metadata": {
    "collapsed": true
   },
   "source": [
    "# Based on error above, cluster with 18 centroids is the best choice.\n",
    "# Maybe I should try more."
   ]
  },
  {
   "cell_type": "code",
   "execution_count": 29,
   "metadata": {},
   "outputs": [
    {
     "data": {
      "text/plain": [
       "'\\nfor e in eps:\\n    cluster_DBSCAN = DBSCAN(e, min_samples = 10000).fit(all_points)\\n    def error_DBSCAN(point):\\n'"
      ]
     },
     "execution_count": 29,
     "metadata": {},
     "output_type": "execute_result"
    }
   ],
   "source": [
    "\"\"\"Q6 One clustering for pickup-dropoff\"\"\"\n",
    "\n",
    "# One cluster includes all pickup and dropoff points. \n",
    "# Percentage of trips within a cluster is number of points divided by two.\n",
    "# Since all points have a cluster number after training(clustering based on KMean or DBSCAN)\n",
    "# compare cluster number for each pair stored in one feature data set as (pickup, dropoff)\n",
    "# Assumption: no points have exact the same location --> union two data sets of point location.\n",
    "\n",
    "# Normalize after union --> cannot use normalization result above.\n",
    "\n",
    "import numpy as np\n",
    "from math import sqrt\n",
    "from pyspark.mllib.clustering import KMeans, KMeansModel\n",
    "from sklearn.cluster import DBSCAN\n",
    "\n",
    "pickup_location = datafile.map(lambda x: (float(x[5]),float(x[6])))\n",
    "dropoff_location = datafile.map(lambda x: (float(x[7]),float(x[8])))\n",
    "# Union pickup location points and dropoff location points.\n",
    "all_points = pickup_location.union(dropoff_location)\n",
    "\n",
    "count_data = datafile.count()\n",
    "average_all_point_long = all_points.map(lambda e: e[0]).reduce(lambda x,y: x+y) / count_data\n",
    "average_all_points_lat = all_points.map(lambda e: e[1]).reduce(lambda x,y: x+y) / count_data\n",
    "\n",
    "normalized_all_points = all_points.map(lambda e: (e[0]/average_all_point_long, e[1]/average_all_points_lat))\n",
    "\n",
    "# concatenate pickup and dropoff to test if they are in the same cluster. \n",
    "# the normalization should be the same as 'all_point' \n",
    "pickup_dropoff_pair = datafile.map(lambda x: [[float(x[5])/average_all_point_long,float(x[6])/average_all_points_lat],[float(x[7])/average_all_point_long,float(x[8])/average_all_points_lat]])\n",
    "\n",
    "\n",
    "error_list_KMeans = []\n",
    "ks = [10,12,14,16,18,20,22,24]\n",
    "\n",
    "# KMean method for clustering\n",
    "for k in ks:\n",
    "    cluster_KMean = KMeans.train(normalized_all_points, k, maxIterations = 10, initializationMode = 'random')\n",
    "    def error_KMeans(point):\n",
    "        center_KMeans = cluster_KMean.centers[cluster_KMean.predict(point)]\n",
    "        return sqrt(sum([x**2 for x in (point - center_KMeans)]))\n",
    "    WSSSE_KMeans = normalized_all_points.map(error_KMeans).reduce(lambda x,y: x+y)\n",
    "    error_list_KMeans.append(WSSSE_KMeans)\n",
    "\"\"\"\n",
    "for e in eps:\n",
    "    cluster_DBSCAN = DBSCAN(e, min_samples = 10000).fit(all_points)\n",
    "    def error_DBSCAN(point):\n",
    "\"\"\"   "
   ]
  },
  {
   "cell_type": "code",
   "execution_count": 30,
   "metadata": {},
   "outputs": [
    {
     "data": {
      "text/plain": [
       "[<matplotlib.lines.Line2D at 0x7f7067480e90>]"
      ]
     },
     "execution_count": 30,
     "metadata": {},
     "output_type": "execute_result"
    },
    {
     "data": {
      "image/png": "[encoded data removed]",
      "text/plain": [
       "<matplotlib.figure.Figure at 0x7f70679794d0>"
      ]
     },
     "metadata": {},
     "output_type": "display_data"
    }
   ],
   "source": [
    "import matplotlib\n",
    "import matplotlib.pyplot\n",
    "import matplotlib.pyplot as plt\n",
    "%matplotlib inline \n",
    "plt.plot(ks,error_list_KMeans,'rs-')"
   ]
  },
  {
   "cell_type": "code",
   "execution_count": 34,
   "metadata": {
    "collapsed": true
   },
   "outputs": [],
   "source": [
    "# Final model of KMeans after selecting the number of clusters k = 24\n",
    "cluster_KMean_final = KMeans.train(normalized_all_points, 24, maxIterations = 10, initializationMode = 'random')"
   ]
  },
  {
   "cell_type": "code",
   "execution_count": 39,
   "metadata": {
    "scrolled": true
   },
   "outputs": [
    {
     "name": "stdout",
     "output_type": "stream",
     "text": [
      "[[ 1.00143623  1.00329316]\n",
      " [ 1.00022251  1.0016706 ]\n",
      " [ 1.0014371   1.00270675]\n",
      " [ 1.00165259  1.00062558]\n",
      " [ 1.00098719  1.00416713]\n",
      " [ 1.00123276  1.00006507]\n",
      " [ 1.00116144  1.00177498]\n",
      " [ 1.00206099  1.00087326]\n",
      " [ 1.00138791  1.00374902]\n",
      " [ 1.00167233  0.99952195]\n",
      " [ 1.00097977  1.00324141]\n",
      " [ 1.00168787  1.00280801]\n",
      " [ 1.00183186  0.99829934]\n",
      " [ 1.00073391  1.00127376]\n",
      " [ 1.00181591  1.00234068]\n",
      " [ 1.00207521  0.99993668]\n",
      " [ 1.0002471   1.00363478]\n",
      " [ 0.99941844  0.99916093]\n",
      " [ 1.00180625  1.00152007]\n",
      " [ 1.00154158  1.00303278]\n",
      " [ 0.          0.        ]\n",
      " [ 0.99989638  1.00054156]\n",
      " [ 1.00157132  1.00229044]\n",
      " [ 1.0005473   1.00485457]]\n"
     ]
    }
   ],
   "source": [
    "# Report centroids in matrix form\n",
    "centroids_KMeans = np.zeros([24,2])\n",
    "\n",
    "for i in range(24):\n",
    "    center = cluster_KMean_final.centers[i]\n",
    "    centroids_KMeans[i][0] = center[0]\n",
    "    centroids_KMeans[i][1] = center[1]\n",
    "print centroids_KMeans"
   ]
  },
  {
   "cell_type": "code",
   "execution_count": 40,
   "metadata": {
    "scrolled": false
   },
   "outputs": [
    {
     "name": "stdout",
     "output_type": "stream",
     "text": [
      "[(0, 97028), (1, 110314), (2, 173831), (3, 247111), (4, 60418), (5, 128287), (6, 215378), (7, 78265), (8, 74656), (9, 244444), (10, 50933), (11, 158823), (12, 61820), (13, 283719), (14, 52301), (15, 359525), (16, 35618), (17, 28173), (18, 138566), (19, 114458), (20, 4073), (21, 124142), (22, 129468), (23, 18501)]\n"
     ]
    }
   ],
   "source": [
    "# how many points belong to one cluster\n",
    "\n",
    "points_KMeans_cluster = normalized_all_points.map(lambda point: cluster_KMean_final.predict(point)).map(lambda e: (e,1)).reduceByKey(lambda x,y: x+y)"
   ]
  },
  {
   "cell_type": "code",
   "execution_count": 42,
   "metadata": {},
   "outputs": [
    {
     "name": "stdout",
     "output_type": "stream",
     "text": [
      "[(0, 48514), (1, 55157), (2, 86915), (3, 123555), (4, 30209), (5, 64143), (6, 107689), (7, 39132), (8, 37328), (9, 122222), (10, 25466), (11, 79411), (12, 30910), (13, 141859), (14, 26150), (15, 179762), (16, 17809), (17, 14086), (18, 69283), (19, 57229), (20, 2036), (21, 62071), (22, 64734), (23, 9250)]\n"
     ]
    }
   ],
   "source": [
    "# Percentage of trips for each cluster \n",
    "# Count all points in a cluster means both pickup and dropoff are included, then divided by 2 get the average.\n",
    "\n",
    "print points_KMeans_cluster.map(lambda e: (e[0],e[1]/2)).sortByKey().collect()"
   ]
  },
  {
   "cell_type": "code",
   "execution_count": 48,
   "metadata": {},
   "outputs": [
    {
     "name": "stdout",
     "output_type": "stream",
     "text": [
      "[(-1, 954396), (0, 9584), (1, 17217), (2, 20096), (3, 53985), (4, 11962), (5, 15795), (6, 62135), (7, 403), (8, 10151), (9, 47742), (10, 7547), (11, 15844), (12, 13920), (13, 84097), (14, 1619), (15, 80325), (16, 8990), (17, 1175), (18, 9022), (19, 11557), (20, 524), (21, 38584), (22, 15380), (23, 2876)]\n"
     ]
    }
   ],
   "source": [
    "# Percentage of trips where pickup and dropoff are in same cluster\n",
    "# '-1' represents a class in which pickup and dropoff points belong to different clusters\n",
    "\n",
    "pickup_drop_KMeans_center_pair = pickup_dropoff_pair.map(lambda point: (cluster_KMean_final.predict(point[0]),cluster_KMean_final.predict(point[1])))\n",
    "pickup_drop_sameCluster = pickup_drop_KMeans_center_pair.map(lambda e: (e[0],1) if e[0] == e[1] else (-1,1)).reduceByKey(lambda x,y: x+y)\n",
    "print pickup_drop_sameCluster.sortByKey().collect()"
   ]
  },
  {
   "cell_type": "code",
   "execution_count": 6,
   "metadata": {},
   "outputs": [
    {
     "name": "stdout",
     "output_type": "stream",
     "text": [
      "{1: 'NJ', 2: 'NYC'}\n",
      "[[u'2', u'2015-09-01 00:02:34', u'2015-09-01 00:02:38', u'N', u'5', u'-73.979484558105469', u'40.684955596923828', u'-73.97943115234375', u'40.685020446777344', u'1', u'.00', u'7.8', u'0', u'0', u'1.95', u'0', u'', u'0', u'9.75', u'1', u'2', [2, 2]]]\n"
     ]
    }
   ],
   "source": [
    "\"\"\"Q7 \"\"\"\n",
    "\n",
    "# Assign features to represent location of pickup and dropoff for NJ or NYC, '1' and '2' respectively.\n",
    "# Assign features '11', '12', '21', '22' to represent trip type NJ->NJ, NJ->NYC, NYC->NJ, NYC->NJ\n",
    "# Apply map to add these features at the end of dataset\n",
    "\n",
    "location_dictionary = {}\n",
    "location_dictionary[1] = 'NJ'\n",
    "location_dictionary[2] = 'NYC'\n",
    "print location_dictionary\n",
    "\n",
    "ingredient = 1.323942\n",
    "intersection = 138.669195\n",
    "\n",
    "def pickup_feature(e):\n",
    "    if e[1][1] >= (ingredient*e[1][0] + intersection):\n",
    "        return [e, [1, e[1][2], e[1][3]]]\n",
    "    elif e[1][1] < (ingredient*e[1][0] + intersection):\n",
    "        return [e, [2, e[1][2], e[1][3]]]\n",
    "    \n",
    "def dropoff_feature(e):\n",
    "    if e[1][2] >= (ingredient*e[1][1] + intersection):\n",
    "        return [e, [e[1][0], 1]]\n",
    "    elif e[1][2] < (ingredient*e[1][1] + intersection):\n",
    "        return [e, [e[1][0], 2]]\n",
    "\n",
    "def concatenate_feature(e):\n",
    "    a = []\n",
    "    for value in e[0]:\n",
    "        a.append(value)\n",
    "    a.append(e[1])\n",
    "    return a\n",
    "\n",
    "location_feature_draft = datafile.map(lambda e: [e, [float(value) for value in e[5:9]]]).map(pickup_feature).map(dropoff_feature)\n",
    "location_feature_added = location_feature_draft.map(lambda e: [e[0][0][0], e[1]]).map(concatenate_feature)\n",
    "\n",
    "print location_feature_added.take(1)\n"
   ]
  },
  {
   "cell_type": "code",
   "execution_count": 7,
   "metadata": {},
   "outputs": [
    {
     "name": "stdout",
     "output_type": "stream",
     "text": [
      "[[u'2', u'2015-09-01 00:02:34', u'2015-09-01 00:02:38', u'N', u'5', u'-73.979484558105469', u'40.684955596923828', u'-73.97943115234375', u'40.685020446777344', u'1', u'.00', u'7.8', u'0', u'0', u'1.95', u'0', u'', u'0', u'9.75', u'1', u'2', [2, 2], 0]]\n",
      "[['0', '2-2']]\n"
     ]
    }
   ],
   "source": [
    "# Association Rule --> time hour vs. intra/inter\n",
    "# Group time hour as added feature --> Find association rule\n",
    "\n",
    "import datetime\n",
    "\n",
    "def time_feature(e):\n",
    "    departure_time = datetime.datetime.strptime(e[1], \"%Y-%m-%d %H:%M:%S\")\n",
    "    arrival_time = datetime.datetime.strptime(e[2], \"%Y-%m-%d %H:%M:%S\")\n",
    "    return (e, departure_time.hour)\n",
    "\n",
    "time_location_feature_added = location_feature_added.map(time_feature).map(concatenate_feature)\n",
    "print time_location_feature_added.take(1)\n",
    "\n",
    "def string_time_location(e):\n",
    "    return str(e[0]) + \",\" + str(e[1][0]) + \"-\" + str(e[1][1])\n",
    "\n",
    "time_location_feature = time_location_feature_added.map(lambda e: [e[-1], e[-2]]).map(string_time_location).map(lambda e: e.split(','))\n",
    "print time_location_feature.take(1)"
   ]
  },
  {
   "cell_type": "code",
   "execution_count": 54,
   "metadata": {},
   "outputs": [
    {
     "name": "stdout",
     "output_type": "stream",
     "text": [
      "<class 'pyspark.rdd.PipelinedRDD'>\n"
     ]
    }
   ],
   "source": [
    "# plot the inter and intra versus time --> implicitly show the regulation\n",
    "inter_time_list = []\n",
    "intra_time_list = []\n",
    "\n",
    "group_time_inter_intra = time_location_feature.map(lambda e: e[0] + \",\" + e[1]).map(lambda e: (e,1)).reduceByKey(lambda x,y: x+y)\n",
    "print type(group_time_inter_intra)\n",
    "\n",
    "def group_time_inter_intra_split(value):\n",
    "    value_split = value[0].split(',')\n",
    "    return (int(value_split[0]), value_split[1], value[1])\n",
    "\n",
    "inter_intra_time_list = group_time_inter_intra.map(group_time_inter_intra_split).collect()\n",
    "\n",
    "i = 0\n",
    "while i < 24:\n",
    "    count_inter = 0\n",
    "    count_intra = 0\n",
    "    for j in xrange(len(inter_intra_time_list)):\n",
    "        if inter_intra_time_list[j][0] == i:\n",
    "            if inter_intra_time_list[j][1] == '1-2' or inter_intra_time_list[j][1] == '2-1':\n",
    "                count_inter += inter_intra_time_list[j][2]\n",
    "            else:\n",
    "                count_intra += inter_intra_time_list[j][2]\n",
    "        else:\n",
    "            pass\n",
    "    inter_time_list.append(count_inter)\n",
    "    intra_time_list.append(count_intra)\n",
    "    i += 1"
   ]
  },
  {
   "cell_type": "code",
   "execution_count": 66,
   "metadata": {},
   "outputs": [
    {
     "data": {
      "image/png": "[encoded data removed]",
      "text/plain": [
       "<matplotlib.figure.Figure at 0x7f62f41dd890>"
      ]
     },
     "metadata": {},
     "output_type": "display_data"
    }
   ],
   "source": [
    "import numpy as np\n",
    "import matplotlib\n",
    "import matplotlib.pyplot\n",
    "import matplotlib.pyplot as plt\n",
    "%matplotlib inline \n",
    "\n",
    "x = np.array(range(24))\n",
    "\n",
    "plt.plot(x, inter_time_list, 'rs-', label ='inter_trip')\n",
    "plt.plot(x, intra_time_list, 'bo-', label = 'intra_trip')\n",
    "\n",
    "plt.xlabel('Time / hour')\n",
    "plt.ylabel('Number of Trips')\n",
    "plt.legend(bbox_to_anchor=(1.05, 1), loc=2, borderaxespad=0.)\n",
    "plt.show()"
   ]
  },
  {
   "cell_type": "code",
   "execution_count": 8,
   "metadata": {
    "scrolled": true
   },
   "outputs": [
    {
     "name": "stdout",
     "output_type": "stream",
     "text": [
      "FreqItemset(items=[u'1'], freq=53773)\n",
      "FreqItemset(items=[u'1', u'2-2'], freq=38687)\n",
      "FreqItemset(items=[u'16'], freq=79157)\n",
      "FreqItemset(items=[u'16', u'1-1'], freq=27874)\n",
      "FreqItemset(items=[u'16', u'2-2'], freq=43839)\n",
      "FreqItemset(items=[u'2-2'], freq=864553)\n",
      "FreqItemset(items=[u'15'], freq=73777)\n",
      "FreqItemset(items=[u'15', u'1-1'], freq=26618)\n",
      "FreqItemset(items=[u'15', u'2-2'], freq=39723)\n",
      "FreqItemset(items=[u'1-1'], freq=449130)\n",
      "FreqItemset(items=[u'7'], freq=41978)\n",
      "FreqItemset(items=[u'7', u'1-1'], freq=17383)\n",
      "FreqItemset(items=[u'7', u'2-2'], freq=17131)\n",
      "FreqItemset(items=[u'2-1'], freq=144110)\n",
      "FreqItemset(items=[u'2'], freq=41196)\n",
      "FreqItemset(items=[u'2', u'2-2'], freq=30549)\n",
      "FreqItemset(items=[u'0'], freq=67158)\n",
      "FreqItemset(items=[u'0', u'2-2'], freq=46624)\n",
      "FreqItemset(items=[u'1-2'], freq=37133)\n",
      "FreqItemset(items=[u'14'], freq=66664)\n",
      "FreqItemset(items=[u'14', u'1-1'], freq=23945)\n",
      "FreqItemset(items=[u'14', u'2-2'], freq=35725)\n",
      "FreqItemset(items=[u'18'], freq=97245)\n",
      "FreqItemset(items=[u'18', u'1-1'], freq=30776)\n",
      "FreqItemset(items=[u'18', u'2-2'], freq=57487)\n",
      "FreqItemset(items=[u'9'], freq=62027)\n",
      "FreqItemset(items=[u'9', u'1-1'], freq=25355)\n",
      "FreqItemset(items=[u'9', u'2-2'], freq=26442)\n",
      "FreqItemset(items=[u'19'], freq=96141)\n",
      "FreqItemset(items=[u'19', u'1-1'], freq=27883)\n",
      "FreqItemset(items=[u'19', u'2-2'], freq=58904)\n",
      "FreqItemset(items=[u'3'], freq=31640)\n",
      "FreqItemset(items=[u'3', u'2-2'], freq=23750)\n",
      "FreqItemset(items=[u'20'], freq=90785)\n",
      "FreqItemset(items=[u'20', u'1-1'], freq=24539)\n",
      "FreqItemset(items=[u'20', u'2-2'], freq=56890)\n",
      "FreqItemset(items=[u'4'], freq=26424)\n",
      "FreqItemset(items=[u'4', u'2-2'], freq=19486)\n",
      "FreqItemset(items=[u'8'], freq=58965)\n",
      "FreqItemset(items=[u'8', u'1-1'], freq=24580)\n",
      "FreqItemset(items=[u'8', u'2-2'], freq=24204)\n",
      "FreqItemset(items=[u'6'], freq=22667)\n",
      "FreqItemset(items=[u'12'], freq=57828)\n",
      "FreqItemset(items=[u'12', u'1-1'], freq=21756)\n",
      "FreqItemset(items=[u'12', u'2-2'], freq=29184)\n",
      "FreqItemset(items=[u'17'], freq=88022)\n",
      "FreqItemset(items=[u'17', u'1-1'], freq=29697)\n",
      "FreqItemset(items=[u'17', u'2-2'], freq=50170)\n",
      "FreqItemset(items=[u'13'], freq=57477)\n",
      "FreqItemset(items=[u'13', u'1-1'], freq=20927)\n",
      "FreqItemset(items=[u'13', u'2-2'], freq=30230)\n",
      "FreqItemset(items=[u'21'], freq=86543)\n",
      "FreqItemset(items=[u'21', u'1-1'], freq=21903)\n",
      "FreqItemset(items=[u'21', u'2-2'], freq=54249)\n",
      "FreqItemset(items=[u'5'], freq=16700)\n",
      "FreqItemset(items=[u'22'], freq=84705)\n",
      "FreqItemset(items=[u'22', u'1-1'], freq=19343)\n",
      "FreqItemset(items=[u'22', u'2-2'], freq=54183)\n",
      "FreqItemset(items=[u'10'], freq=57468)\n",
      "FreqItemset(items=[u'10', u'1-1'], freq=23171)\n",
      "FreqItemset(items=[u'10', u'2-2'], freq=26207)\n",
      "FreqItemset(items=[u'11'], freq=56791)\n",
      "FreqItemset(items=[u'11', u'1-1'], freq=21914)\n",
      "FreqItemset(items=[u'11', u'2-2'], freq=27652)\n",
      "FreqItemset(items=[u'23'], freq=79795)\n",
      "FreqItemset(items=[u'23', u'1-1'], freq=16534)\n",
      "FreqItemset(items=[u'23', u'2-2'], freq=52772)\n"
     ]
    }
   ],
   "source": [
    "# Generate Frequent Itemset\n",
    "from pyspark.mllib.fpm import FPGrowth\n",
    "\n",
    "model_timeLocation = FPGrowth.train(time_location_feature, minSupport=0.01, numPartitions=10)\n",
    "result_timeLocation = model_timeLocation.freqItemsets().collect()\n",
    "\n",
    "for fi in result_timeLocation:\n",
    "    print fi"
   ]
  },
  {
   "cell_type": "code",
   "execution_count": 9,
   "metadata": {
    "scrolled": true
   },
   "outputs": [
    {
     "name": "stdout",
     "output_type": "stream",
     "text": [
      "[FreqItemset(items=[u'1'], freq=53773)]\n",
      "<type 'list'>\n",
      "<class 'pyspark.rdd.PipelinedRDD'>\n",
      "<class 'pyspark.rdd.PipelinedRDD'>\n",
      "FreqItemset(items=[u'2-2'], freq=864553)\n",
      "FreqItemset(items=[u'1-1'], freq=449130)\n",
      "FreqItemset(items=[u'2-1'], freq=144110)\n",
      "FreqItemset(items=[u'18'], freq=97245)\n",
      "FreqItemset(items=[u'19'], freq=96141)\n",
      "FreqItemset(items=[u'20'], freq=90785)\n",
      "FreqItemset(items=[u'17'], freq=88022)\n",
      "FreqItemset(items=[u'21'], freq=86543)\n",
      "FreqItemset(items=[u'22'], freq=84705)\n",
      "FreqItemset(items=[u'23'], freq=79795)\n",
      "FreqItemset(items=[u'16'], freq=79157)\n",
      "FreqItemset(items=[u'15'], freq=73777)\n",
      "FreqItemset(items=[u'0'], freq=67158)\n",
      "FreqItemset(items=[u'14'], freq=66664)\n",
      "FreqItemset(items=[u'9'], freq=62027)\n",
      "FreqItemset(items=[u'8'], freq=58965)\n",
      "FreqItemset(items=[u'19', u'2-2'], freq=58904)\n",
      "FreqItemset(items=[u'12'], freq=57828)\n",
      "FreqItemset(items=[u'18', u'2-2'], freq=57487)\n",
      "FreqItemset(items=[u'13'], freq=57477)\n",
      "FreqItemset(items=[u'10'], freq=57468)\n",
      "FreqItemset(items=[u'20', u'2-2'], freq=56890)\n",
      "FreqItemset(items=[u'11'], freq=56791)\n",
      "FreqItemset(items=[u'21', u'2-2'], freq=54249)\n",
      "FreqItemset(items=[u'22', u'2-2'], freq=54183)\n",
      "FreqItemset(items=[u'1'], freq=53773)\n",
      "FreqItemset(items=[u'23', u'2-2'], freq=52772)\n",
      "FreqItemset(items=[u'17', u'2-2'], freq=50170)\n",
      "FreqItemset(items=[u'0', u'2-2'], freq=46624)\n",
      "FreqItemset(items=[u'16', u'2-2'], freq=43839)\n",
      "FreqItemset(items=[u'7'], freq=41978)\n",
      "FreqItemset(items=[u'2'], freq=41196)\n",
      "FreqItemset(items=[u'15', u'2-2'], freq=39723)\n",
      "FreqItemset(items=[u'1', u'2-2'], freq=38687)\n",
      "FreqItemset(items=[u'1-2'], freq=37133)\n",
      "FreqItemset(items=[u'14', u'2-2'], freq=35725)\n",
      "FreqItemset(items=[u'3'], freq=31640)\n",
      "FreqItemset(items=[u'18', u'1-1'], freq=30776)\n",
      "FreqItemset(items=[u'2', u'2-2'], freq=30549)\n",
      "FreqItemset(items=[u'13', u'2-2'], freq=30230)\n"
     ]
    }
   ],
   "source": [
    "result_timeLocation_association = model_timeLocation.freqItemsets()\n",
    "\n",
    "print model_timeLocation.freqItemsets().take(1)\n",
    "print type(result_timeLocation)\n",
    "print type(result_timeLocation_association)\n",
    "print type(result_timeLocation_association.values())\n",
    "\n",
    "sorted_result_timeLocation = model_timeLocation.freqItemsets().takeOrdered(40, lambda value: -value[1])\n",
    "for value in sorted_result_timeLocation:\n",
    "    print value"
   ]
  },
  {
   "cell_type": "code",
   "execution_count": 11,
   "metadata": {
    "scrolled": false
   },
   "outputs": [
    {
     "name": "stdout",
     "output_type": "stream",
     "text": [
      "[53773, 38687, 79157, 27874, 43839, 864553, 73777, 26618, 39723, 449130, 41978, 17383, 17131, 144110, 41196, 30549, 67158, 46624, 37133, 66664, 23945, 35725, 97245, 30776, 57487, 62027, 25355, 26442, 96141, 27883, 58904, 31640, 23750, 90785, 24539, 56890, 26424, 19486, 58965, 24580, 24204, 22667, 57828, 21756, 29184, 88022, 29697, 50170, 57477, 20927, 30230, 86543, 21903, 54249, 16700, 84705, 19343, 54183, 57468, 23171, 26207, 56791, 21914, 27652, 79795, 16534, 52772]\n",
      "[[u'1'], [u'1', u'2-2'], [u'16'], [u'16', u'1-1'], [u'16', u'2-2'], [u'2-2'], [u'15'], [u'15', u'1-1'], [u'15', u'2-2'], [u'1-1'], [u'7'], [u'7', u'1-1'], [u'7', u'2-2'], [u'2-1'], [u'2'], [u'2', u'2-2'], [u'0'], [u'0', u'2-2'], [u'1-2'], [u'14'], [u'14', u'1-1'], [u'14', u'2-2'], [u'18'], [u'18', u'1-1'], [u'18', u'2-2'], [u'9'], [u'9', u'1-1'], [u'9', u'2-2'], [u'19'], [u'19', u'1-1'], [u'19', u'2-2'], [u'3'], [u'3', u'2-2'], [u'20'], [u'20', u'1-1'], [u'20', u'2-2'], [u'4'], [u'4', u'2-2'], [u'8'], [u'8', u'1-1'], [u'8', u'2-2'], [u'6'], [u'12'], [u'12', u'1-1'], [u'12', u'2-2'], [u'17'], [u'17', u'1-1'], [u'17', u'2-2'], [u'13'], [u'13', u'1-1'], [u'13', u'2-2'], [u'21'], [u'21', u'1-1'], [u'21', u'2-2'], [u'5'], [u'22'], [u'22', u'1-1'], [u'22', u'2-2'], [u'10'], [u'10', u'1-1'], [u'10', u'2-2'], [u'11'], [u'11', u'1-1'], [u'11', u'2-2'], [u'23'], [u'23', u'1-1'], [u'23', u'2-2']]\n"
     ]
    }
   ],
   "source": []
  },
  {
   "cell_type": "code",
   "execution_count": 67,
   "metadata": {
    "scrolled": true
   },
   "outputs": [
    {
     "name": "stdout",
     "output_type": "stream",
     "text": [
      "[[1, 53773], [16, 79157], [15, 73777], [7, 41978], [2, 41196], [0, 67158], [14, 66664], [18, 97245], [9, 62027], [19, 96141], [3, 31640], [20, 90785], [4, 26424], [8, 58965], [6, 22667], [12, 57828], [17, 88022], [13, 57477], [21, 86543], [5, 16700], [22, 84705], [10, 57468], [11, 56791], [23, 79795]]\n",
      "------------------------------------------------------\n",
      "[[[1, 22], 38687], [[16, 11], 27874], [[16, 22], 43839], [[15, 11], 26618], [[15, 22], 39723], [[7, 11], 17383], [[7, 22], 17131], [[2, 22], 30549], [[0, 22], 46624], [[14, 11], 23945], [[14, 22], 35725], [[18, 11], 30776], [[18, 22], 57487], [[9, 11], 25355], [[9, 22], 26442], [[19, 11], 27883], [[19, 22], 58904], [[3, 22], 23750], [[20, 11], 24539], [[20, 22], 56890], [[4, 22], 19486], [[8, 11], 24580], [[8, 22], 24204], [[12, 11], 21756], [[12, 22], 29184], [[17, 11], 29697], [[17, 22], 50170], [[13, 11], 20927], [[13, 22], 30230], [[21, 11], 21903], [[21, 22], 54249], [[22, 11], 19343], [[22, 22], 54183], [[10, 11], 23171], [[10, 22], 26207], [[11, 11], 21914], [[11, 22], 27652], [[23, 11], 16534], [[23, 22], 52772]]\n",
      "[['1->[1, 22]', 0.7194502817399067], ['16->[16, 22]', 0.5538234142274214], ['15->[15, 22]', 0.5384198327392006], ['2->[2, 22]', 0.7415525779201865], ['0->[0, 22]', 0.6942434259507431], ['14->[14, 22]', 0.5358964358574343], ['18->[18, 22]', 0.5911563576533498], ['19->[19, 22]', 0.6126834545095224], ['3->[3, 22]', 0.7506321112515802], ['20->[20, 22]', 0.6266453709313212], ['4->[4, 22]', 0.7374356645473812], ['12->[12, 22]', 0.5046690184685619], ['17->[17, 22]', 0.5699711435777419], ['13->[13, 22]', 0.5259495102388781], ['21->[21, 22]', 0.6268444588239372], ['22->[16, 22]', 0.5175491411368869], ['22->[0, 22]', 0.5504279558467623], ['22->[18, 22]', 0.6786730417330736], ['22->[19, 22]', 0.69540168821203], ['22->[20, 22]', 0.6716250516498435], ['22->[17, 22]', 0.5922908919190131], ['22->[21, 22]', 0.6404462546484859], ['22->[22, 22]', 0.6396670798654153], ['22->[23, 22]', 0.6230092674576472], ['11->[18, 11]', 0.5419168530224859], ['11->[17, 11]', 0.5229173636667782], ['23->[23, 22]', 0.6613446957829437]]\n"
     ]
    }
   ],
   "source": [
    "# Generate Association Rule with confidence more than 0.8\n",
    "\n",
    "freq_value_list = model_timeLocation.freqItemsets().values().collect()\n",
    "freq_key_list = model_timeLocation.freqItemsets().keys().collect()\n",
    "\n",
    "one_item_value = []\n",
    "one_item_key_draft = []\n",
    "one_item_key = []\n",
    "more_item_value = []\n",
    "more_item_key_draft = []\n",
    "more_item_key = []\n",
    "\n",
    "one_item_list = []\n",
    "more_item_list = []\n",
    "association_rule_Q7 = []\n",
    "\n",
    "# Create time and association list\n",
    "for i in range(len(freq_key_list)):\n",
    "    if len(freq_key_list[i]) == 1:\n",
    "        one_item_key_draft.append(freq_key_list[i])\n",
    "        one_item_value.append(freq_value_list[i])\n",
    "    else:\n",
    "        more_item_key_draft.append(freq_key_list[i])\n",
    "        more_item_value.append(freq_value_list[i])\n",
    "        \n",
    "# remove items that are not time from the one_item list\n",
    "for key in one_item_key_draft:\n",
    "    a = str(key)\n",
    "    if a[4] == '-':\n",
    "        key_index = one_item_key_draft.index(key)\n",
    "        one_item_key_draft.remove(key)\n",
    "        one_item_value.remove(one_item_value[key_index])\n",
    "    else:\n",
    "        pass\n",
    "# change the type from string to int in one_item list\n",
    "for key in one_item_key_draft:\n",
    "    aa = str(key[0])\n",
    "    bb = int(filter(str.isdigit, aa))\n",
    "    one_item_key.append(bb)\n",
    "\n",
    "for key in more_item_key_draft:\n",
    "    flag_list = []\n",
    "    for i in range(len(key)):\n",
    "        cc = int(filter(str.isdigit, str(key[i])))\n",
    "        flag_list.append(cc)\n",
    "    more_item_key.append(flag_list)\n",
    "        \n",
    "# Create key-value pair for two lists, ready to be used for generating association rule\n",
    "for i in range(len(one_item_key)):\n",
    "    one_item_list.append([one_item_key[i], one_item_value[i]])\n",
    "for j in range(len(more_item_key)):\n",
    "    more_item_list.append([more_item_key[j], more_item_value[j]])\n",
    "    \n",
    "print one_item_list\n",
    "print \"------------------------------------------------------\"\n",
    "print more_item_list\n",
    "\n",
    "for i in range(len(one_item_list)):\n",
    "    for j in range(len(more_item_list)):\n",
    "        if one_item_list[i][0] in more_item_list[j][0]:\n",
    "            a = float(more_item_list[j][1]) / float(one_item_list[i][1])\n",
    "            if 0.5 < a:\n",
    "                b = str(one_item_list[i][0]) + \"->\" + str(more_item_list[j][0])\n",
    "                association_rule_Q7.append([b, a])\n",
    "            else:\n",
    "                pass\n",
    "        else:\n",
    "            pass\n",
    "\n",
    "print association_rule_Q7"
   ]
  },
  {
   "cell_type": "markdown",
   "metadata": {},
   "source": [
    "Q7 Answers\n",
    "1. From the result above, from 22:00 to 4:00, more people are likely to go from NYC to NYC\n",
    "2. \n",
    "\n"
   ]
  },
  {
   "cell_type": "code",
   "execution_count": 6,
   "metadata": {
    "collapsed": true
   },
   "outputs": [],
   "source": [
    "\"\"\"Q8 Problem - Demand vs. Time\"\"\" \n",
    "# group time, cluster each time, find the dense area\n",
    "\n",
    "import datetime\n",
    "import numpy as np\n",
    "\n",
    "def pickup_time_location(e):\n",
    "    departure_time = datetime.datetime.strptime(e[1], \"%Y-%m-%d %H:%M:%S\")\n",
    "    return (departure_time.hour, [float(e[5]), float(e[6])])\n",
    "\n",
    "data_hour = datafile.map(pickup_time_location).groupByKey().sortByKey().map(lambda e: (e[0], [x for x in e[1]]))"
   ]
  },
  {
   "cell_type": "code",
   "execution_count": 7,
   "metadata": {
    "collapsed": true
   },
   "outputs": [],
   "source": [
    "# apply filter to find hour-data instead of groupByKey\n",
    "# Since the calculation limit, only take 3 hours as example\n",
    "\n",
    "data_kmeans_list = []\n",
    "\n",
    "\"\"\"\n",
    "data_hour_filter_0 = datafile.map(pickup_time_location).filter(lambda e: e[0] == 0).map(lambda e: e[1])\n",
    "data_hour_filter_1 = datafile.map(pickup_time_location).filter(lambda e: e[0] == 1).map(lambda e: e[1])\n",
    "data_hour_filter_2 = datafile.map(pickup_time_location).filter(lambda e: e[0] == 2).map(lambda e: e[1])\n",
    "data_hour_filter_3 = datafile.map(pickup_time_location).filter(lambda e: e[0] == 3).map(lambda e: e[1])\n",
    "data_hour_filter_4 = datafile.map(pickup_time_location).filter(lambda e: e[0] == 4).map(lambda e: e[1])\n",
    "data_hour_filter_5 = datafile.map(pickup_time_location).filter(lambda e: e[0] == 5).map(lambda e: e[1])\n",
    "data_hour_filter_6 = datafile.map(pickup_time_location).filter(lambda e: e[0] == 6).map(lambda e: e[1])\n",
    "data_hour_filter_7 = datafile.map(pickup_time_location).filter(lambda e: e[0] == 7).map(lambda e: e[1])\n",
    "data_hour_filter_8 = datafile.map(pickup_time_location).filter(lambda e: e[0] == 8).map(lambda e: e[1])\n",
    "data_hour_filter_9 = datafile.map(pickup_time_location).filter(lambda e: e[0] == 9).map(lambda e: e[1])\n",
    "data_hour_filter_10= datafile.map(pickup_time_location).filter(lambda e: e[0] == 10).map(lambda e: e[1])\n",
    "data_hour_filter_11= datafile.map(pickup_time_location).filter(lambda e: e[0] == 11).map(lambda e: e[1])\n",
    "data_hour_filter_12= datafile.map(pickup_time_location).filter(lambda e: e[0] == 12).map(lambda e: e[1])\n",
    "data_hour_filter_13= datafile.map(pickup_time_location).filter(lambda e: e[0] == 13).map(lambda e: e[1])\n",
    "data_hour_filter_14= datafile.map(pickup_time_location).filter(lambda e: e[0] == 14).map(lambda e: e[1])\n",
    "data_hour_filter_15= datafile.map(pickup_time_location).filter(lambda e: e[0] == 15).map(lambda e: e[1])\n",
    "data_hour_filter_16= datafile.map(pickup_time_location).filter(lambda e: e[0] == 16).map(lambda e: e[1])\n",
    "data_hour_filter_17= datafile.map(pickup_time_location).filter(lambda e: e[0] == 17).map(lambda e: e[1])\n",
    "\"\"\"\n",
    "data_hour_filter_18= datafile.map(pickup_time_location).filter(lambda e: e[0] == 18).map(lambda e: e[1])\n",
    "data_hour_filter_19= datafile.map(pickup_time_location).filter(lambda e: e[0] == 19).map(lambda e: e[1])\n",
    "data_hour_filter_20= datafile.map(pickup_time_location).filter(lambda e: e[0] == 20).map(lambda e: e[1])\n",
    "#data_hour_filter_21= datafile.map(pickup_time_location).filter(lambda e: e[0] == 21).map(lambda e: e[1])\n",
    "#data_hour_filter_22= datafile.map(pickup_time_location).filter(lambda e: e[0] == 22).map(lambda e: e[1])\n",
    "#data_hour_filter_23= datafile.map(pickup_time_location).filter(lambda e: e[0] == 23).map(lambda e: e[1])\n",
    "\n",
    "\"\"\"\n",
    "data_kmeans_list.append(data_hour_filter_0)\n",
    "data_kmeans_list.append(data_hour_filter_1)\n",
    "data_kmeans_list.append(data_hour_filter_2)\n",
    "data_kmeans_list.append(data_hour_filter_3)\n",
    "data_kmeans_list.append(data_hour_filter_4)\n",
    "data_kmeans_list.append(data_hour_filter_5)\n",
    "data_kmeans_list.append(data_hour_filter_6)\n",
    "data_kmeans_list.append(data_hour_filter_7)\n",
    "data_kmeans_list.append(data_hour_filter_8)\n",
    "data_kmeans_list.append(data_hour_filter_9)\n",
    "data_kmeans_list.append(data_hour_filter_10)\n",
    "data_kmeans_list.append(data_hour_filter_11)\n",
    "data_kmeans_list.append(data_hour_filter_12)\n",
    "data_kmeans_list.append(data_hour_filter_13)\n",
    "data_kmeans_list.append(data_hour_filter_14)\n",
    "data_kmeans_list.append(data_hour_filter_15)\n",
    "data_kmeans_list.append(data_hour_filter_16)\n",
    "\"\"\"\n",
    "#data_kmeans_list.append(data_hour_filter_17)\n",
    "data_kmeans_list.append(data_hour_filter_18)\n",
    "data_kmeans_list.append(data_hour_filter_19)\n",
    "data_kmeans_list.append(data_hour_filter_20)\n",
    "#data_kmeans_list.append(data_hour_filter_21)\n",
    "#data_kmeans_list.append(data_hour_filter_22)\n",
    "#data_kmeans_list.append(data_hour_filter_23)\n",
    "\n",
    "#for i in range(24):\n",
    "    #data_hour_filter_list[i] = datafile.map(pickup_time_location).filter(lambda e: e[0] == i)\n",
    "    #a = data_hour_filter_list[i]\n",
    "    #print a.take(1)\n"
   ]
  },
  {
   "cell_type": "code",
   "execution_count": 8,
   "metadata": {},
   "outputs": [
    {
     "name": "stdout",
     "output_type": "stream",
     "text": [
      "[1.0014507379618274, 0.9977833382571991]\n"
     ]
    }
   ],
   "source": [
    "# normalize all data, respect to hour. Apply these data as points to find the top 5 clusters.\n",
    "# record normalized average for recovering the centroid point\n",
    "\n",
    "\n",
    "data_hour_list = data_hour.collect()\n",
    "data_hour_list_location = []\n",
    "normalize_list = []\n",
    "\n",
    "for i in range(18,21):\n",
    "    data_hour_list_location.append(data_hour_list[i][1])\n",
    "\n",
    "for i in range(3):\n",
    "    sum_long = 0\n",
    "    sum_lat = 0\n",
    "    for j in xrange(len(data_hour_list_location[i])):\n",
    "        sum_long += data_hour_list_location[i][j][0]\n",
    "        sum_lat += data_hour_list_location[i][j][1]\n",
    "    average_long = sum_long / len(data_hour_list_location[i])\n",
    "    average_lat = sum_lat / len(data_hour_list_location[i])\n",
    "    flag = (average_long, average_lat)\n",
    "    normalize_list.append(flag)\n",
    "    for j in xrange(len(data_hour_list_location[i])):\n",
    "        data_hour_list_location[i][j][0] = data_hour_list_location[i][j][0] / average_long\n",
    "        data_hour_list_location[i][j][1] = data_hour_list_location[i][j][1] / average_lat\n",
    "\n",
    "print data_hour_list_location[0][0]\n"
   ]
  },
  {
   "cell_type": "code",
   "execution_count": 9,
   "metadata": {},
   "outputs": [
    {
     "name": "stdout",
     "output_type": "stream",
     "text": [
      "[[-73.98119354248047, 40.667423248291016]]\n",
      "[[1.0016688009222394, 0.9991772738090706]]\n",
      "[[1.001359216121839, 0.9994416723511031]]\n"
     ]
    }
   ],
   "source": [
    "# normalize all data by mapping rdd file\n",
    "# apply these data for training to get the cluster model \n",
    "\n",
    "a = data_kmeans_list[0]\n",
    "print a.take(1)\n",
    "\n",
    "normalize_data_kmeans_list = []\n",
    "\n",
    "for value in data_kmeans_list:\n",
    "    count_data_kmeans = value.count()\n",
    "    data_kmeans_long = value.map(lambda x: x[0])\n",
    "    data_kmeans_lat = value.map(lambda x: x[1])\n",
    "    sum_data_kmeans_long = data_kmeans_long.reduce(lambda x,y: x+y)\n",
    "    sum_data_kmeans_lat = data_kmeans_lat.reduce(lambda x,y: x+y)\n",
    "    average_data_kmeans_long = sum_data_kmeans_long / count_data_kmeans\n",
    "    average_data_kmeans_lat = sum_data_kmeans_lat / count_data_kmeans \n",
    "    def normalize_data_kmeans(e):\n",
    "        e[0] = e[0] / average_data_kmeans_long\n",
    "        e[1] = e[1] / average_data_kmeans_lat\n",
    "        return e\n",
    "    normalize_data_kmeans_location = value.map(normalize_data_kmeans)\n",
    "    normalize_data_kmeans_list.append(normalize_data_kmeans_location)\n",
    "\n",
    "b = normalize_data_kmeans_list[0]\n",
    "c = normalize_data_kmeans_list[1]\n",
    "print b.take(1)\n",
    "print c.take(1)"
   ]
  },
  {
   "cell_type": "code",
   "execution_count": 10,
   "metadata": {
    "scrolled": true
   },
   "outputs": [
    {
     "name": "stdout",
     "output_type": "stream",
     "text": [
      "[  6398.   4818.   4248.   6317.    115.   2820.  11904.   4435.   1892.\n",
      "   6571.   1031.   3801.   4233.   5017.  11322.   4812.   7007.   3111.\n",
      "   6211.   1182.]\n",
      "[  1569.   4037.   3195.   9682.   9945.   2382.     95.  19184.   5909.\n",
      "   4478.   1094.   3121.   6137.   1552.   2677.   1180.   7137.   3263.\n",
      "   1907.   7597.]\n",
      "[  1039.   5646.   3372.   3819.   1873.  16810.   6964.   1412.   6627.\n",
      "   4220.   2765.   4222.   2570.     96.   5960.   5510.   5599.   2825.\n",
      "   6471.   2985.]\n"
     ]
    }
   ],
   "source": [
    "# cluster training for 6pm to 8pm. \n",
    "# record all data, centroids, number of points in each cluster for each cluster model\n",
    "\n",
    "import numpy as np\n",
    "from math import sqrt\n",
    "from pyspark.mllib.clustering import KMeans, KMeansModel\n",
    "\n",
    "cluster_point_count = np.zeros((3,20))\n",
    "WSSSE_KMeans_list = []\n",
    "cluster_KMean_list = []\n",
    "cluster_centroids_list = []\n",
    "\n",
    "for i in range(3):\n",
    "    cluster_KMean = KMeans.train(normalize_data_kmeans_list[i], 20, maxIterations = 10, initializationMode = 'random')\n",
    "    cluster_KMean_list.append(cluster_KMean)\n",
    "    def error_KMeans(point):\n",
    "        center_KMeans = cluster_KMean.centers[cluster_KMean.predict(point)]\n",
    "        return sqrt(sum([x**2 for x in (point - center_KMeans)]))\n",
    "    error = 0\n",
    "    WSSSE_KMeans = 0\n",
    "    for j in xrange(len(data_hour_list_location[i])):\n",
    "        error = error_KMeans(data_hour_list_location[i][j])\n",
    "        WSSSE_KMeans += error\n",
    "    WSSSE_KMeans_list.append(WSSSE_KMeans)   \n",
    "    for n in range(20):\n",
    "        count_point = 0\n",
    "        for k in xrange(len(data_hour_list_location[i])):\n",
    "            if cluster_KMean.predict(data_hour_list_location[i][k]) == n:\n",
    "                count_point += 1 \n",
    "        cluster_point_count[i][n] = count_point\n",
    "    print cluster_point_count[i]  # check program process\n",
    "    centroids_long = 0\n",
    "    centroids_lat = 0\n",
    "    for m in range(20):\n",
    "        center = cluster_KMean.centers[m]\n",
    "        centroids_long = center[0]\n",
    "        centroids_lat = center[1]\n",
    "        cluster_centroids_list.append((centroids_long, centroids_lat))"
   ]
  },
  {
   "cell_type": "code",
   "execution_count": 12,
   "metadata": {
    "scrolled": true
   },
   "outputs": [
    {
     "name": "stdout",
     "output_type": "stream",
     "text": [
      "0 (1.0008254446367779, 1.0016148963086295)\n",
      "1 (1.001643299773364, 0.99912407908315715)\n",
      "2 (1.0010085023598971, 1.0033749987189911)\n",
      "3 (1.0013098534060072, 1.0003698396581893)\n",
      "4 (0.0, 0.0)\n",
      "5 (1.0003245976162487, 1.0038627067624755)\n",
      "6 (1.0017932366282716, 0.99971023816094817)\n",
      "7 (0.99961056649617064, 1.0002902921437962)\n",
      "8 (1.0009895882355031, 0.99944854502682201)\n",
      "9 (1.000736285891038, 1.0011806611942471)\n",
      "10 (1.0013757404643768, 0.99756427457581032)\n",
      "11 (1.0018135951471359, 1.0000111562686889)\n",
      "12 (1.0015059608864005, 0.99960462279869888)\n",
      "13 (1.0011488941506446, 1.002857544537755)\n",
      "14 (1.0013649576002244, 1.0025993009602816)\n",
      "15 (1.0011151264805285, 1.0025159464837534)\n",
      "16 (1.0001565509454517, 1.0010833439134248)\n",
      "17 (1.001250440026076, 1.0010138055060687)\n",
      "18 (1.0012459039311197, 1.002188054083091)\n",
      "19 (1.0016748769097619, 1.0000063278517966)\n",
      "20 (0.9992725307753243, 0.99990794400616356)\n",
      "21 (1.0013530193509013, 1.0026209971295923)\n",
      "22 (0.99975259466227751, 1.0004329333779078)\n",
      "23 (1.0011190209780971, 1.002519596560262)\n",
      "24 (1.0014680622191565, 1.0002268354200987)\n",
      "25 (1.0002093709385991, 1.0012454201164682)\n",
      "26 (0.0, 0.0)\n",
      "27 (1.0016672422676218, 0.99941075040955518)\n",
      "28 (1.0008358536132211, 1.0015608259338116)\n",
      "29 (1.0010995599902923, 1.0029161838310234)\n",
      "30 (1.0001992982824037, 1.0008334136670483)\n",
      "31 (1.0012054001869524, 1.000985099896996)\n",
      "32 (1.0005361549603347, 1.0011213281064058)\n",
      "33 (1.0005757752322499, 1.0041245634462881)\n",
      "34 (1.001016055799145, 1.0034080330251007)\n",
      "35 (0.99989659437946665, 1.0034830879006238)\n",
      "36 (1.0010779746063101, 0.99951078626992873)\n",
      "37 (1.0000506221472572, 1.0007524349005599)\n",
      "38 (0.99968517676899382, 1.0013905297728036)\n",
      "39 (1.0012434514467117, 1.0021871744653774)\n",
      "40 (1.0014463554067197, 0.99777500903975891)\n",
      "41 (1.0010984042604583, 1.0027134444122701)\n",
      "42 (0.99981083864151854, 1.0004923424343168)\n",
      "43 (1.0012478808134142, 1.0021703830212179)\n",
      "44 (1.0012839352375409, 1.0006827366038455)\n",
      "45 (1.0017295319878212, 0.99966429394442236)\n",
      "46 (1.001285069056804, 0.99927912333340085)\n",
      "47 (0.99935259255359032, 0.99989583997640485)\n",
      "48 (1.000829114295795, 1.0015623417342046)\n",
      "49 (1.0010408589267876, 1.0033004743890515)\n",
      "50 (1.0011277385739235, 0.99984535686083653)\n",
      "51 (1.0013573437191143, 1.0004301471111943)\n",
      "52 (1.0003423712084762, 1.0038338265658604)\n",
      "53 (0.0, 0.0)\n",
      "54 (1.001401734127128, 1.0026549567006735)\n",
      "55 (1.0011427971346389, 1.0024311966011079)\n",
      "56 (0.99999967291029879, 1.0010795133066925)\n",
      "57 (1.0011004837455004, 1.0011242231774846)\n",
      "58 (1.0004702468755695, 1.0011342276741459)\n",
      "59 (1.0013091081096601, 1.000266006599726)\n",
      "[21.691708832608075, 22.54756370296067, 18.863760734387636]\n",
      "[(-73.8487440350209, 40.70000130843979), (-73.86278770147524, 40.70523988469398), (-73.85793934518652, 40.700908952080525)]\n"
     ]
    }
   ],
   "source": [
    "# print all useful data\n",
    "\n",
    "for i in range(len(cluster_centroids_list)):\n",
    "    print i, cluster_centroids_list[i]\n",
    "\n",
    "print WSSSE_KMeans_list\n",
    "print normalize_list"
   ]
  },
  {
   "cell_type": "markdown",
   "metadata": {},
   "source": [
    "\"\"\"Q8 Airport flat trip\"\"\"\n",
    "\n",
    "def airport(e):\n",
    "    if int(e[4])==2:\n",
    "        return True\n",
    "    else:\n",
    "        return False\n",
    "    \n",
    "airportdata = datafile.filter(airport).map(lambda e: (e[5],e[6]))\n",
    "\n",
    "print airportdata.take(2)\n",
    "    \n",
    "arpcount = airportdata.count()\n",
    "\n",
    "artpickup_long = airportdata.map(lambda x:float(x[0]))\n",
    "artpickup_lat = airportdata.map(lambda x:float(x[1]))\n",
    "\n",
    "arppicup_long_sum = artpickup_long.reduce(lambda x,y:x+y)\n",
    "arppicup_lat_sum = artpickup_lat.reduce(lambda x,y:x+y)\n",
    "\n",
    "avgpickup_long = arppicup_long_sum/arpcount\n",
    "avgpickup_lat = arppicup_lat_sum/arpcount\n",
    "\n",
    "print avgpickup_long\n",
    "print avgpickup_lat\n",
    "print arpcount\n",
    "def normalize_pickup(e):\n",
    "    e[0] = e[0]/avgpickup_long\n",
    "    e[1] = e[1]/avgpickup_lat\n",
    "    return e\n",
    "\n",
    "normalized_airport = airportdata.map(lambda x: [float(x[0]),float(x[1])]).map(normalize_pickup)\n",
    "\n",
    "\n",
    "\n",
    "print normalized_airport.take(2)\n",
    "\n",
    "from math import sqrt\n",
    "from pyspark.mllib.clustering import KMeans, KMeansModel\n",
    "\n",
    "error_list_airportpickup = []\n",
    "\n",
    "k_list = [20]\n",
    "print \"error_airportpickup\"\n",
    "array = []\n",
    "count = 0\n",
    "for k in k_list:\n",
    "    cluster_airportpickup = KMeans.train(normalized_airport, k, maxIterations=10, initializationMode=\"random\")\n",
    "    normalize_airportlist = normalized_airport.collect()\n",
    "    for i in range(k):\n",
    "        print cluster_airportpickup.centers[i]\n",
    "    for j in range(0,20):\n",
    "        for k in range(0,len(normalize_airportlist)):\n",
    "            if(cluster_airportpickup.predict([normalize_airportlist[k][0],normalize_airportlist[k][1]])==j):\n",
    "                count = count+1\n",
    "        array.append(count)\n",
    "        count = 0\n",
    "    print array\n",
    "    def error_airportpickup(point):\n",
    "        center_airportpickup = cluster_airportpickup.centers[cluster_airportpickup.predict(point)]\n",
    "        return sqrt(sum([x**2 for x in (point - center_airportpickup)]))\n",
    "   \n",
    "    WSSSE_airportpickup = normalized_airport.map(error_airportpickup).reduce(lambda x,y: x+y)\n",
    "  \n",
    "    error_list_airportpickup.append(WSSSE_airportpickup)\n",
    "    \n",
    "    print WSSSE_airportpickup\n",
    "\n",
    "JFK_data = normalized_airport.collect()\n",
    "JFK_data_density_list = []\n",
    "\n",
    "for i in range(20):\n",
    "    count_JFK = 0\n",
    "    error_JFK = 0\n",
    "    centroid_point = cluster_airportpickup.centers[i]\n",
    "    for j in xrange(len(JFK_data)):\n",
    "        if cluster_airportpickup.predict(JFK_data[j]) == i:\n",
    "            error_JFK = sqrt(sum([x**2 for x in (JFK_data[i] - centroid_point)]))\n",
    "            count_JFK += error_JFK\n",
    "    JFK_data_density_list.append(count_JFK)\n",
    "\n",
    "print JFK_data_density_list\n",
    "\n",
    "JFK_points_per_error = []\n",
    "for i in range(20):\n",
    "    a = array[i] / JFK_data_density_list[i]\n",
    "    a = int(a)\n",
    "    JFK_points_per_error.append(a)\n",
    "    \n",
    "print JFK_points_per_error\n",
    "\n",
    "print [cluster_airportpickup.centers[12][0]*avgpickup_long,cluster_airportpickup.centers[12][1]*avgpickup_lat]\n",
    "print [cluster_airportpickup.centers[10][0]*avgpickup_long,cluster_airportpickup.centers[10][1]*avgpickup_lat]\n",
    "print [cluster_airportpickup.centers[1][0]*avgpickup_long,cluster_airportpickup.centers[1][1]*avgpickup_lat]\n",
    "\n",
    "def data_1(e):\n",
    "    lst1 = e[1].split(\"-\")\n",
    "    lst2 = lst1[2].split(\" \")\n",
    "    return lst2\n",
    "\n",
    "monday = [7, 14, 21, 28]\n",
    "tuesday = [1,8,15,22,29]\n",
    "wednesday = [2,9,16,23,30]\n",
    "thursday = [3,10,17,24]\n",
    "friday = [4,11,18,25]\n",
    "saturday = [5,12,19,26]\n",
    "sunday = [6,13,20,27]\n",
    "def data(e):\n",
    "    if int(e[0]) in monday:\n",
    "        return \"Monday\"\n",
    "    elif int(e[0]) in tuesday:\n",
    "        return \"Tuesday\"\n",
    "    elif int(e[0]) in wednesday:\n",
    "        return \"Wednesday\"\n",
    "    elif int(e[0]) in thursday:\n",
    "        return \"Thursday\"\n",
    "    elif int(e[0]) in friday:\n",
    "        return \"Friday\"\n",
    "    elif int(e[0]) in saturday:\n",
    "        return \"Saturday\"\n",
    "    elif int(e[0]) in sunday:\n",
    "        return \"Sunday\"\n",
    "day = datafile.map(data_1).map(data)\n",
    "print day.take(10)\n",
    "\n",
    "def kvweek(e):\n",
    "    return [e,1]\n",
    "\n",
    "daypair = day.map(kvweek)\n",
    "print daypair.take(10)\n",
    "\n",
    "def parse(e):\n",
    "    if e[0] == 'Tuesday' or e[0] == 'Wednesday':\n",
    "        return (e[0], e[1] / 5)\n",
    "    else:\n",
    "        return (e[0], e[1] / 4)\n",
    "\n",
    "count = daypair.reduceByKey(lambda x,y:x+y).map(parse).takeOrdered(7, lambda value: -value[1])\n",
    "print count"
   ]
  },
  {
   "cell_type": "markdown",
   "metadata": {},
   "source": [
    "\"\"\"Q8 Weekday - Weekend, Total Amount vs. cluster\"\"\"\n",
    "\n",
    "def find_weekend(e):\n",
    "    if '2015-09-05' in e:\n",
    "        return True\n",
    "    elif '2015-09-06' in e:\n",
    "        return True\n",
    "    elif '2015-09-12' in e:\n",
    "        return True\n",
    "    elif '2015-09-13' in e:\n",
    "        return True\n",
    "    elif '2015-09-19' in e:\n",
    "        return True\n",
    "    elif '2015-09-20' in e:\n",
    "        return True\n",
    "    elif '2015-09-26' in e:\n",
    "        return True\n",
    "    elif '2015-09-27' in e:\n",
    "        return True\n",
    "    else:\n",
    "        return False\n",
    "\n",
    "data_weekend = data.filter(find_weekend)\n",
    "#print data_weekend.take(1)\n",
    "data_weekend_pickloc_amount = data_weekend.map(split_line).map(lambda e: (e[5],e[6],float(e[18])))\n",
    "\n",
    "\n",
    "count_weekend = data_weekend.count()\n",
    "\n",
    "weekend_pickup_location_long = data_weekend_pickloc_amount.map(lambda x: float(x[0]))\n",
    "weekend_pickup_location_lat = data_weekend_pickloc_amount.map(lambda x: float(x[1]))\n",
    "\n",
    "weekend_sum_pickup_long = weekend_pickup_location_long.reduce(lambda x,y: x+y)\n",
    "weekend_sum_pickup_lat = weekend_pickup_location_lat.reduce(lambda x,y: x+y)\n",
    "\n",
    "weekend_average_pickup_long = weekend_sum_pickup_long / count_weekend\n",
    "weekend_average_pickup_lat = weekend_sum_pickup_lat / count_weekend\n",
    "\n",
    "def weekend_normalize_pickup(e):\n",
    "    e[0] = e[0] / weekend_average_pickup_long\n",
    "    e[1] = e[1] / weekend_average_pickup_lat\n",
    "    return e\n",
    "\n",
    "normalize_pickup_location_weekend = data_weekend_pickloc_amount.map(lambda x: [float(x[0]),float(x[1])]).map(weekend_normalize_pickup)\n",
    "\n",
    "#take top 20% data to analyze\n",
    "data_target = data_weekend_pickloc_amount.map(lambda x: [float(x[0]),float(x[1]),float(x[2])]).map(weekend_normalize_pickup).takeOrdered(97033, lambda value: -value[2])\n",
    "In [ ]:\n",
    "\"\"\"continue\"\"\"\n",
    "\n",
    "from math import sqrt\n",
    "from pyspark.mllib.clustering import KMeans, KMeansModel\n",
    "#choose 20 centroids\n",
    "array = []\n",
    "count = 0\n",
    "cluster_chosen = KMeans.train(normalize_pickup_location_weekend, 20, maxIterations=10, initializationMode=\"random\")\n",
    "\n",
    "for i in range(20):\n",
    "    print i,cluster_chosen.centers[i]\n",
    "\n",
    "for j in range(0,20):\n",
    "    for k in range(0,len(data_target)):\n",
    "        if (cluster_chosen.predict([data_target[k][0],data_target[k][1]]) == j):\n",
    "            count = count+1\n",
    "    array.append(count)\n",
    "    count = 0\n",
    "    \n",
    "print array\n",
    "In [ ]:\n",
    "'''continue'''\n",
    "'''place the point'''\n",
    "\n",
    "print [cluster_chosen.centers[2][0]*weekend_average_pickup_long,cluster_chosen.centers[2][1]*weekend_average_pickup_lat]\n",
    "print [cluster_chosen.centers[4][0]*weekend_average_pickup_long,cluster_chosen.centers[4][1]*weekend_average_pickup_lat]\n",
    "print [cluster_chosen.centers[6][0]*weekend_average_pickup_long,cluster_chosen.centers[6][1]*weekend_average_pickup_lat]\n",
    "print [cluster_chosen.centers[14][0]*weekend_average_pickup_long,cluster_chosen.centers[14][1]*weekend_average_pickup_lat]\n",
    "print [cluster_chosen.centers[3][0]*weekend_average_pickup_long,cluster_chosen.centers[3][1]*weekend_average_pickup_lat]\n",
    "In [ ]:\n",
    "error_weekend_list = []\n",
    "\n",
    "for i in range(20):\n",
    "    centroid = cluster_chosen.centers[i]\n",
    "    count_error = 0\n",
    "    error = 0 \n",
    "    for j in range(len(data_target)):\n",
    "        if cluster_chosen.predict([data_target[j][0],data_target[j][1]]) == i:\n",
    "            error = sqrt(sum([x**2 for x in ([data_target[j][0],data_target[j][1]] - centroid)]))\n",
    "            count_error += error\n",
    "    error_weekend_list.append(count_error)\n",
    "\n",
    "print error_weekend_list\n",
    "In [ ]:\n",
    "density_weekend = []\n",
    "for i in range(20):\n",
    "    if i != 9:\n",
    "        a = error_weekend_list[i] / array[i]\n",
    "    else:\n",
    "        a = 0\n",
    "    density_weekend.append(a)\n",
    "\n",
    "print density_weekend\n",
    "In [ ]:\n",
    "'''Q8 Algorithm 1 Weekday & Total amount'''\n",
    "\n",
    "def find_weekday(e):\n",
    "    if '2015-09-05' in e:\n",
    "        return False\n",
    "    elif '2015-09-06' in e:\n",
    "        return False\n",
    "    elif '2015-09-12' in e:\n",
    "        return False\n",
    "    elif '2015-09-13' in e:\n",
    "        return False\n",
    "    elif '2015-09-19' in e:\n",
    "        return False\n",
    "    elif '2015-09-20' in e:\n",
    "        return False\n",
    "    elif '2015-09-26' in e:\n",
    "        return False\n",
    "    elif '2015-09-27' in e:\n",
    "        return False\n",
    "    else:\n",
    "        return True\n",
    "\n",
    "data_weekday = data.filter(find_weekday)\n",
    "#print data_weekend.take(1)\n",
    "data_weekday_pickloc_amount = data_weekday.map(split_line).map(lambda e: (e[5],e[6],float(e[18])))\n",
    "\n",
    "count_weekday = data_weekday.count()\n",
    "print count_weekday\n",
    "\n",
    "weekday_pickup_location_long = data_weekday_pickloc_amount.map(lambda x: float(x[0]))\n",
    "weekday_pickup_location_lat = data_weekday_pickloc_amount.map(lambda x: float(x[1]))\n",
    "\n",
    "weekday_sum_pickup_long = weekday_pickup_location_long.reduce(lambda x,y: x+y)\n",
    "weekday_sum_pickup_lat = weekday_pickup_location_lat.reduce(lambda x,y: x+y)\n",
    "\n",
    "weekday_average_pickup_long = weekday_sum_pickup_long / count_weekday\n",
    "weekday_average_pickup_lat = weekday_sum_pickup_lat / count_weekday\n",
    "\n",
    "def weekday_normalize_pickup(e):\n",
    "    e[0] = e[0] / weekday_average_pickup_long\n",
    "    e[1] = e[1] / weekday_average_pickup_lat\n",
    "    return e\n",
    "\n",
    "normalize_pickup_location_weekday = data_weekday_pickloc_amount.map(lambda x: [float(x[0]),float(x[1])]).map(weekday_normalize_pickup)\n",
    "\n",
    "#take top 20% data to analyze\n",
    "data_target_weekday = data_weekday_pickloc_amount.map(lambda x: [float(x[0]),float(x[1]),float(x[2])]).map(weekday_normalize_pickup).takeOrdered(201952, lambda value: -value[2])\n",
    "\n",
    "print data_target_weekday[1][0]\n",
    "In [ ]:\n",
    "'''continue'''\n",
    "from math import sqrt\n",
    "from pyspark.mllib.clustering import KMeans, KMeansModel\n",
    "\n",
    "#choose 20 centroids\n",
    "array_weekday = []\n",
    "count_weekday = 0\n",
    "cluster_chosen_weekday = KMeans.train(normalize_pickup_location_weekday, 20, maxIterations=10, initializationMode=\"random\")\n",
    "\n",
    "for i in range(20):\n",
    "    print i,cluster_chosen_weekday.centers[i]\n",
    "\n",
    "for j in range(0,20):\n",
    "    for k in range(0,len(data_target_weekday)):\n",
    "        if (cluster_chosen_weekday.predict([data_target_weekday[k][0],data_target_weekday[k][1]]) == j):\n",
    "            count_weekday = count_weekday+1\n",
    "    array_weekday.append(count_weekday)\n",
    "    count_weekday = 0\n",
    "    \n",
    "print array_weekday\n",
    "In [ ]:\n",
    "'''continue'''\n",
    "'''place the point'''\n",
    "\n",
    "print [cluster_chosen_weekday.centers[6][0]*weekday_average_pickup_long,cluster_chosen_weekday.centers[6][1]*weekday_average_pickup_lat]\n",
    "print [cluster_chosen_weekday.centers[10][0]*weekday_average_pickup_long,cluster_chosen_weekday.centers[10][1]*weekday_average_pickup_lat]\n",
    "print [cluster_chosen_weekday.centers[13][0]*weekday_average_pickup_long,cluster_chosen_weekday.centers[13][1]*weekday_average_pickup_lat]\n",
    "print [cluster_chosen_weekday.centers[12][0]*weekday_average_pickup_long,cluster_chosen_weekday.centers[12][1]*weekday_average_pickup_lat]\n",
    "print [cluster_chosen_weekday.centers[1][0]*weekday_average_pickup_long,cluster_chosen_weekday.centers[1][1]*weekday_average_pickup_lat]\n",
    "In [ ]:\n",
    "error_weekday_list = []\n",
    "\n",
    "for i in range(20):\n",
    "    centroid_weekday = cluster_chosen_weekday.centers[i]\n",
    "    count_error_weekday = 0\n",
    "    error_weekday = 0 \n",
    "    for j in range(len(data_target_weekday)):\n",
    "        if cluster_chosen_weekday.predict([data_target_weekday[j][0],data_target_weekday[j][1]]) == i:\n",
    "            error_weekday = sqrt(sum([x**2 for x in ([data_target_weekday[j][0],data_target_weekday[j][1]] - centroid_weekday)]))\n",
    "            count_error_weekday += error_weekday\n",
    "    error_weekday_list.append(count_error_weekday)\n",
    "\n",
    "print error_weekday_list\n",
    "In [ ]:\n",
    "density_weekday = []\n",
    "for i in range(20):\n",
    "    if i != 2:\n",
    "        a = error_weekday_list[i] / array_weekday[i]\n",
    "    else:\n",
    "        a = 0\n",
    "    density_weekday.append(a)\n",
    "\n",
    "print density_weekday"
   ]
  },
  {
   "cell_type": "code",
   "execution_count": 80,
   "metadata": {
    "collapsed": true
   },
   "outputs": [],
   "source": [
    "sc.stop()"
   ]
  }
 ],
 "metadata": {
  "kernelspec": {
   "display_name": "Python 2",
   "language": "python",
   "name": "python2"
  },
  "language_info": {
   "codemirror_mode": {
    "name": "ipython",
    "version": 2
   },
   "file_extension": ".py",
   "mimetype": "text/x-python",
   "name": "python",
   "nbconvert_exporter": "python",
   "pygments_lexer": "ipython2",
   "version": "2.7.9"
  }
 },
 "nbformat": 4,
 "nbformat_minor": 2
}
