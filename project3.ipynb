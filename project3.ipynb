{
 "cells": [
  {
   "cell_type": "code",
   "execution_count": 1,
   "metadata": {
    "collapsed": true
   },
   "outputs": [],
   "source": [
    "import findspark\n",
    "findspark.init()\n",
    "import pyspark\n",
    "import random\n",
    "import numpy as np"
   ]
  },
  {
   "cell_type": "code",
   "execution_count": 2,
   "metadata": {},
   "outputs": [],
   "source": [
    "config = pyspark.SparkConf().set('spark.executor.memory', '512M').set('spark.cores.max', '2') \n",
    "sc = pyspark.SparkContext(appName=\"GettingStarted\", master='spark://polyp1:7077',conf = config )"
   ]
  },
  {
   "cell_type": "code",
   "execution_count": 3,
   "metadata": {
    "scrolled": true
   },
   "outputs": [
    {
     "name": "stdout",
     "output_type": "stream",
     "text": [
      "100000\n"
     ]
    }
   ],
   "source": [
    "num_samples = 100000\n",
    "data = range(0, num_samples)\n",
    "\n",
    "numOfBlocks = 20\n",
    "distributedData = sc.parallelize(data,numOfBlocks)\n",
    "\n",
    "print distributedData.count()"
   ]
  },
  {
   "cell_type": "code",
   "execution_count": 4,
   "metadata": {
    "collapsed": true
   },
   "outputs": [],
   "source": [
    "activity = '/home/bol216/ISE_467/education/activity_log.csv'\n",
    "enroll = '/home/bol216/ISE_467/education/enrollment_list.csv'\n",
    "train = '/home/bol216/ISE_467/education/train_label.csv'\n",
    "\n",
    "    "
   ]
  },
  {
   "cell_type": "code",
   "execution_count": 16,
   "metadata": {},
   "outputs": [
    {
     "name": "stdout",
     "output_type": "stream",
     "text": [
      "[1, 1, 0, 1, 1, 1, 1, 1, 1, 1, 1, 0, 0, 1, 1, 1, 0, 1, 1, 1, 1, 0, 1, 1, 1, 1, 0, 1, 1, 1, 1, 1, 1, 1, 0, 1, 1, 1, 1, 1, 1, 1, 1, 1, 1, 1, 1, 1, 0, 1, 1, 1, 1, 1, 0, 0, 0, 1, 1, 1, 1, 1, 0, 1, 1, 1, 1, 1, 1, 1, 1, 1, 1, 1, 0, 1, 0, 1, 1, 1, 1, 1, 1, 1, 1, 1, 0, 1, 1, 1, 1, 1, 1, 1, 1, 1, 1, 0, 1, 1, 0, 1, 1, 1, 1, 1, 1, 1, 1, 1, 1, 1, 1, 1, 1, 0, 1, 1, 1, 1, 0, 0, 1, 0, 1, 1, 1, 1, 1, 1, 1, 0, 1, 1, 1, 1, 0, 1, 0, 1, 1, 1, 1, 1, 0, 1, 0, 0, 1, 1, 0, 1, 1, 1, 1, 1, 1, 1, 0, 1, 0, 1, 0, 1, 1, 0, 1, 1, 1, 1, 1, 1, 1, 0, 1, 0, 1, 1, 1, 1, 0, 1, 0, 0, 1, 1, 1, 1, 1, 1, 1, 1, 1, 1, 0, 1, 1, 1, 1, 1, 1, 1, 1, 0, 1, 0, 0, 1, 1, 1, 1, 1, 0, 1, 1, 1, 1, 1, 0, 1, 1, 1, 0, 1, 1, 1, 1, 1, 1, 1, 0, 1, 1, 1, 1, 1, 1, 1, 1, 1, 1, 0, 0, 1, 1, 1, 1, 1, 1, 1, 1, 1, 1, 1, 1, 1, 1, 1, 1, 0, 1, 1, 1, 1, 1, 1, 1, 1, 1, 0, 1, 1, 1, 1, 1, 1, 1, 1, 1, 0, 1, 0, 1, 1, 0, 1, 1, 1, 0, 1, 1, 0, 1, 1, 1, 1, 1, 0, 1, 1, 1, 1, 1, 1, 1, 1, 1, 1, 1, 1, 1, 1, 1, 1, 1, 0, 1, 1, 1, 1, 1, 1, 1, 1, 1, 1, 1, 1, 1, 1, 1, 1, 1, 1, 0, 1, 1, 1, 1, 0, 0, 1, 1, 0, 1, 0, 1, 1, 0, 1, 1, 1, 1, 1, 1, 1, 0, 1, 1, 0, 1, 1, 1, 1, 1, 1, 1, 1, 1, 1, 0, 0, 0, 1, 1, 0, 1, 1, 1, 1, 1, 1, 1, 0, 1, 1, 1, 1, 1, 1, 0, 1, 0, 1, 1, 0, 1, 1, 0, 1, 1, 1, 1, 0, 1, 1, 1, 1, 1, 0, 1, 1, 0, 1, 1, 1, 1, 0, 1, 1, 0, 1, 1, 1, 1, 1, 1, 0, 0, 1, 0, 1, 0, 0, 1, 1, 1, 0, 0, 0, 1, 1, 1, 1, 1, 1, 1, 1, 1, 1, 1, 1, 1, 1, 0, 1, 1, 1, 1, 0, 1, 0, 0, 1, 1, 0, 1, 1, 1, 0, 1, 1, 1, 1, 1, 1, 1, 1, 1, 1, 1, 1, 1, 0, 1, 1, 0, 1, 1, 1, 0, 1, 1, 1, 1, 1, 1, 1, 1, 1, 1, 1, 1, 1, 1, 1, 1, 1, 0, 1, 0, 1, 0, 1, 1, 1, 0, 0, 1, 1, 1, 1, 1, 1, 1, 1, 1, 1, 0, 1, 1, 1, 0, 1, 1, 1, 0, 1, 1, 1, 0, 1, 1, 1, 1, 1, 1, 0, 1, 1, 1, 1, 1, 1, 1, 1, 1, 1, 1, 0, 1, 1, 1, 1, 1, 1, 1, 1, 1, 0, 1, 1, 0, 1, 1, 0, 0, 0, 1, 1, 0, 1, 1, 1, 1, 1, 0, 0, 1, 1, 1, 1, 1, 1, 0, 0, 1, 1, 1, 0, 1, 1, 1, 1, 0, 1, 1, 1, 1, 1, 0, 1, 1, 1, 1, 1, 1, 1, 0, 1, 1, 1, 1, 1, 0, 1, 1, 0, 1, 1, 1, 0, 0, 0, 1, 1, 1, 1, 0, 1, 1, 1, 1, 1, 1, 1, 0, 1, 1, 1, 1, 0, 1, 1, 1, 1, 1, 1, 1, 1, 1, 0, 1, 0, 1, 1, 1, 1, 1, 1, 1, 1, 1, 1, 0, 1, 1, 1, 1, 0, 0, 1, 1, 1, 0, 0, 1, 1, 0, 1, 1, 0, 1, 0, 1, 1, 1, 0, 1, 0, 1, 0, 1, 1, 1, 1, 1, 1, 1, 1, 1, 0, 1, 1, 0, 1, 1, 1, 1, 0, 1, 1, 1, 1, 1, 1, 0, 0, 1, 0, 1, 0, 1, 1, 0, 1, 1, 1, 1, 1, 1, 0, 1, 1, 0, 1, 1, 1, 1, 1, 1, 1, 1, 0, 1, 0, 1, 1, 1, 1, 1, 1, 1, 1, 1, 1, 0, 1, 1, 1, 1, 1, 1, 1, 1, 1, 1, 1, 1, 1, 1, 1, 1, 1, 1, 0, 1, 1, 1, 1, 0, 1, 0, 0, 1, 1, 1, 1, 1, 0, 0, 1, 1, 1, 1, 0, 1, 0, 1, 0, 0, 1, 1, 1, 1, 1, 0, 1, 1, 1, 0, 0, 1, 1, 0, 1, 1, 1, 1, 1, 0, 0, 1, 1, 1, 1, 1, 1, 1, 1, 0, 1, 1, 1, 0, 0, 0, 1, 0, 1, 1, 1, 0, 0, 1, 1, 1, 1, 0, 1, 0, 0, 1, 1, 1, 1, 0, 1, 1, 1, 0, 1, 1, 1, 0, 1, 1, 1, 1, 1, 1, 1, 1, 1, 1, 1, 0, 1, 1, 0, 1, 1, 1, 1, 1, 1, 1, 1, 1, 0, 1, 1, 1, 1, 1, 1, 1, 0, 0, 1, 1, 1, 1, 0, 1, 1, 0, 1, 0, 1, 1, 0, 0, 1, 1, 1, 0, 1, 0, 1, 1, 1, 0, 0, 1, 1, 1, 1, 1, 1, 1, 1, 1, 0, 1, 1, 1, 1, 1, 0, 1, 1, 1, 1, 0, 1, 0, 1, 0, 1, 0, 1, 0, 1, 0, 1, 1, 1, 0, 1, 1, 1, 1, 0, 1, 1, 0, 1, 1, 1, 1, 1, 0, 1, 0, 1, 1, 1, 0, 0, 1, 1, 1, 1, 1, 1, 1, 1, 1]\n",
      "999\n",
      "99\n"
     ]
    }
   ],
   "source": [
    "f2 = open(train,'r').readlines()\n",
    "r = 0\n",
    "output = []\n",
    "for data in f2:\n",
    "    r += 1\n",
    "    if r > 1 and r < 1001:\n",
    "      output.append(int(data.split(',')[1]))\n",
    "print output\n",
    "print (len(output))\n",
    "print (len(act))"
   ]
  },
  {
   "cell_type": "code",
   "execution_count": 17,
   "metadata": {},
   "outputs": [
    {
     "name": "stdout",
     "output_type": "stream",
     "text": [
      "[['2014-05-20T04:44:49', 'navigate'], ['2014-05-20T04:45:15', 'navigate'], ['2014-05-20T04:47:59', 'navigate'], ['2014-05-20T04:49:16', 'navigate'], ['2014-05-20T04:50:07', 'navigate'], ['2014-05-20T08:47:30', 'navigate'], ['2014-05-20T08:47:35', 'navigate'], ['2014-05-20T08:47:54', 'navigate'], ['2014-06-07T07:32:11', 'navigate']]\n"
     ]
    }
   ],
   "source": [
    "r = 0 \n",
    "f = open(activity,'r').readlines()\n",
    "act = {}\n",
    "p = 1\n",
    "time_act = []\n",
    "for data in f:\n",
    "    r += 1\n",
    "    if r > 1:\n",
    "        lis = data.split(',')\n",
    "        lis[2] = lis[2].strip('\\n')\n",
    "        if int(lis[0]) > 1000:\n",
    "            break\n",
    "        idx = int(lis[0])\n",
    "        if idx == p:\n",
    "            time_act.append(lis[1:])\n",
    "        else:\n",
    "            p += 1\n",
    "            act[p-1] = time_act\n",
    "            time_act = []\n",
    "print act[28]"
   ]
  },
  {
   "cell_type": "code",
   "execution_count": 18,
   "metadata": {},
   "outputs": [
    {
     "name": "stdout",
     "output_type": "stream",
     "text": [
      "(0, 0, 0, 0)\n"
     ]
    }
   ],
   "source": [
    "def totime(user):\n",
    " r = 0\n",
    " part = {}\n",
    " row = []\n",
    " for i in range(1,len(user),1):\n",
    "    day = int(user[i][0][-11:-9]) - int(user[i-1][0][-11:-9])\n",
    "    hour = np.abs(int(user[i][0][-8:-6]) - int(user[i-1][0][-8:-6]))\n",
    "    if day == 0 and hour <= 3 :\n",
    "        row.append(user[i-1])\n",
    "    else:\n",
    "        row.append(user[i-1])\n",
    "        part[r] = row\n",
    "        r += 1\n",
    "        row = []\n",
    "    if i == len(user)-1:\n",
    "        row.append(user[i])\n",
    "        part[r] = row\n",
    "        \n",
    " psum = 0\n",
    " vsum = 0\n",
    " dsum = 0\n",
    " wsum = 0\n",
    " for i in range(len(part)):\n",
    "    #summ += len(part[i])\n",
    "    \n",
    "    plast = part[i][-1][0]\n",
    "    #print '===',part[i]\n",
    "    for ele in part[i]:\n",
    "        if ele[1] == 'problem':\n",
    "            ptime = ele[0]\n",
    "            break\n",
    "        else:\n",
    "            ptime = 0\n",
    "    \n",
    "    \n",
    "    if ptime !=0:\n",
    "        #print '****************',plast[-5:-3]\n",
    "        psum += np.abs(int(ptime[-8:-6]) - int(plast[-8:-6]))*60 \\\n",
    " + int(plast[-5:-3])- int(ptime[-5:-3])\n",
    "    \n",
    "    \n",
    "    \n",
    "    \n",
    "    \n",
    "    for ele in part[i]:\n",
    "        if ele[1] == 'video':\n",
    "            ptime = ele[0]\n",
    "            break\n",
    "        else:\n",
    "            ptime = 0\n",
    "    if ptime !=0:\n",
    "        \n",
    "        out = np.abs(int(ptime[-8:-6]) - int(plast[-8:-6]))*60 \\\n",
    " + int(plast[-5:-3])- int(ptime[-5:-3])\n",
    "        #print out\n",
    "        vsum += out\n",
    "        \n",
    "        \n",
    "    for ele in part[i]:\n",
    "        if ele[1] == 'discussion':\n",
    "            ptime = ele[0]\n",
    "            break\n",
    "        else:\n",
    "            ptime = 0\n",
    "    #print 'ptime',ptime\n",
    "    if ptime !=0:\n",
    "        \n",
    "        out = np.abs(int(ptime[-8:-6]) - int(plast[-8:-6]))*60 \\\n",
    " + int(plast[-5:-3])- int(ptime[-5:-3])\n",
    "        #print 'out',out\n",
    "        dsum += out\n",
    "        \n",
    "    for ele in part[i]:\n",
    "        if ele[1] == 'wiki':\n",
    "            ptime = ele[0]\n",
    "            break\n",
    "        else:\n",
    "            ptime = 0\n",
    "    #print 'ptime',ptime\n",
    "    if ptime !=0:\n",
    "        \n",
    "        out = np.abs(int(ptime[-8:-6]) - int(plast[-8:-6]))*60 \\\n",
    " + int(plast[-5:-3])- int(ptime[-5:-3])\n",
    "        #print 'out',out\n",
    "        wsum += out\n",
    "\n",
    " return psum,vsum,dsum,wsum    \n",
    "print totime(act[28])\n",
    "\n",
    "        "
   ]
  },
  {
   "cell_type": "code",
   "execution_count": 19,
   "metadata": {},
   "outputs": [
    {
     "name": "stdout",
     "output_type": "stream",
     "text": [
      "[[(268, 0, 0, 0), 1], [(0, 12, 23, 22), 1], [(0, 406, 95, 0), 0], [(55, 108, 24, 22), 1], [(0, 0, 0, 0), 1]]\n",
      "998\n"
     ]
    }
   ],
   "source": [
    "Tvec= []\n",
    "for i in range(1,len(act)):\n",
    "    Tvec.append([totime(act[i]),output[i-1]])\n",
    "print Tvec[0:5]\n",
    "print len(Tvec)"
   ]
  },
  {
   "cell_type": "code",
   "execution_count": 22,
   "metadata": {
    "collapsed": true
   },
   "outputs": [],
   "source": [
    "n = 998\n",
    "d = 4\n",
    "X = np.zeros((n,d))\n",
    "y = np.zeros((n,1))\n"
   ]
  },
  {
   "cell_type": "code",
   "execution_count": 23,
   "metadata": {},
   "outputs": [],
   "source": [
    "i=0\n",
    "for line in Tvec:\n",
    "    #data = line.split(\",\")\n",
    "    #print line[0][0]\n",
    "   # print data[1]\n",
    "    X[i,0]=float(line[0][0])\n",
    "    X[i,1]=float(line[0][1])  \n",
    "    X[i,2]=float(line[0][2])\n",
    "    X[i,3]=float(line[0][3])\n",
    "    #y[i] = line[1]\n",
    "    \n",
    "    if line[1] == 1:\n",
    "         y[i] =1\n",
    "    else:\n",
    "         y[i]=-1\n",
    "    i += 1\n",
    "    \n",
    "#print y\n",
    "#print X"
   ]
  },
  {
   "cell_type": "code",
   "execution_count": 24,
   "metadata": {},
   "outputs": [
    {
     "name": "stdout",
     "output_type": "stream",
     "text": [
      "Total mistakes done during the run of the algorithm  7312\n",
      "0.267334669339\n"
     ]
    }
   ],
   "source": [
    "\n",
    "T = 10*n\n",
    "w = np.zeros(d)\n",
    "WHistory=np.zeros((T,d))  \n",
    "eta=0.1\n",
    "totalMistakes = 0\n",
    "\n",
    "for it in xrange(T):\n",
    "    eta = 0.1/(0.01*it+1)\n",
    "    idx = it%n  \n",
    "    \n",
    "    wTimesX = w.dot(X[idx,:])\n",
    "    #print wTimesX\n",
    "    if wTimesX*y[idx] > 0:\n",
    "        pass\n",
    "    #elif wTimesX == y[idx]:\n",
    "        #pass\n",
    "    else:\n",
    "        w =w +eta*y[idx]*X[idx,:]\n",
    "        totalMistakes +=1\n",
    "   # print wTimesX\n",
    "\n",
    "    WHistory[it,:] = w  \n",
    "#print X.dot(w)\n",
    "\n",
    "i=0\n",
    "W = np.zeros((4,1))\n",
    "for e in w:\n",
    "    W[i] = e\n",
    "    i+=1\n",
    "#print W\n",
    "#print w\n",
    "print \"Total mistakes done during the run of the algorithm \" , totalMistakes\n",
    "#print X.dot(W)\n",
    "Accuracy = float(T-totalMistakes)/float(T)\n",
    "print Accuracy"
   ]
  },
  {
   "cell_type": "code",
   "execution_count": 23,
   "metadata": {},
   "outputs": [
    {
     "ename": "NameError",
     "evalue": "name 'user' is not defined",
     "output_type": "error",
     "traceback": [
      "\u001b[0;31m---------------------------------------------------------------------------\u001b[0m",
      "\u001b[0;31mNameError\u001b[0m                                 Traceback (most recent call last)",
      "\u001b[0;32m<ipython-input-23-fc0f7e66b181>\u001b[0m in \u001b[0;36m<module>\u001b[0;34m()\u001b[0m\n\u001b[0;32m----> 1\u001b[0;31m \u001b[0mday\u001b[0m \u001b[0;34m=\u001b[0m \u001b[0mint\u001b[0m\u001b[0;34m(\u001b[0m\u001b[0muser\u001b[0m\u001b[0;34m[\u001b[0m\u001b[0;36m1\u001b[0m\u001b[0;34m]\u001b[0m\u001b[0;34m[\u001b[0m\u001b[0;36m0\u001b[0m\u001b[0;34m]\u001b[0m\u001b[0;34m[\u001b[0m\u001b[0;34m-\u001b[0m\u001b[0;36m11\u001b[0m\u001b[0;34m:\u001b[0m\u001b[0;34m-\u001b[0m\u001b[0;36m9\u001b[0m\u001b[0;34m]\u001b[0m\u001b[0;34m)\u001b[0m\u001b[0;34m\u001b[0m\u001b[0m\n\u001b[0m\u001b[1;32m      2\u001b[0m \u001b[0;32mprint\u001b[0m \u001b[0mday\u001b[0m\u001b[0;34m\u001b[0m\u001b[0m\n\u001b[1;32m      3\u001b[0m \u001b[0mhour\u001b[0m \u001b[0;34m=\u001b[0m \u001b[0mint\u001b[0m\u001b[0;34m(\u001b[0m\u001b[0muser\u001b[0m\u001b[0;34m[\u001b[0m\u001b[0;36m1\u001b[0m\u001b[0;34m]\u001b[0m\u001b[0;34m[\u001b[0m\u001b[0;36m0\u001b[0m\u001b[0;34m]\u001b[0m\u001b[0;34m[\u001b[0m\u001b[0;34m-\u001b[0m\u001b[0;36m8\u001b[0m\u001b[0;34m:\u001b[0m\u001b[0;34m-\u001b[0m\u001b[0;36m6\u001b[0m\u001b[0;34m]\u001b[0m\u001b[0;34m)\u001b[0m\u001b[0;34m\u001b[0m\u001b[0m\n\u001b[1;32m      4\u001b[0m \u001b[0;32mprint\u001b[0m \u001b[0mhour\u001b[0m\u001b[0;34m\u001b[0m\u001b[0m\n",
      "\u001b[0;31mNameError\u001b[0m: name 'user' is not defined"
     ]
    }
   ],
   "source": [
    "day = int(user[1][0][-11:-9])\n",
    "print day\n",
    "hour = int(user[1][0][-8:-6])\n",
    "print hour\n"
   ]
  },
  {
   "cell_type": "code",
   "execution_count": 24,
   "metadata": {
    "collapsed": true
   },
   "outputs": [],
   "source": [
    "def to_vector(e):\n",
    "    \n",
    "    return vector"
   ]
  },
  {
   "cell_type": "code",
   "execution_count": 25,
   "metadata": {},
   "outputs": [
    {
     "name": "stdout",
     "output_type": "stream",
     "text": [
      "3\n"
     ]
    }
   ],
   "source": [
    "a = '123'\n",
    "print a[-1:]"
   ]
  },
  {
   "cell_type": "code",
   "execution_count": 12,
   "metadata": {
    "collapsed": true
   },
   "outputs": [],
   "source": [
    "sc.stop()"
   ]
  },
  {
   "cell_type": "code",
   "execution_count": null,
   "metadata": {
    "collapsed": true
   },
   "outputs": [],
   "source": []
  }
 ],
 "metadata": {
  "kernelspec": {
   "display_name": "Python 2",
   "language": "python",
   "name": "python2"
  },
  "language_info": {
   "codemirror_mode": {
    "name": "ipython",
    "version": 2
   },
   "file_extension": ".py",
   "mimetype": "text/x-python",
   "name": "python",
   "nbconvert_exporter": "python",
   "pygments_lexer": "ipython2",
   "version": "2.7.9"
  }
 },
 "nbformat": 4,
 "nbformat_minor": 2
}
